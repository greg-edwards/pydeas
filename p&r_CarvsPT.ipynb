{
 "cells": [
  {
   "cell_type": "code",
   "execution_count": 1,
   "id": "f2255c3b-f373-4547-b28b-537b29f31f67",
   "metadata": {},
   "outputs": [],
   "source": [
    "import osmnx as ox\n",
    "import pandas as pd\n",
    "import geopandas as gpd\n",
    "import numpy as np\n",
    "import matplotlib.pyplot as plt\n",
    "import networkx as nx\n",
    "import folium\n",
    "from shapely.geometry import LineString\n",
    "from shapely.geometry import Point\n",
    "from shapely.geometry import Polygon\n",
    "from geopy.geocoders import Nominatim\n",
    "from geopy.point import Point"
   ]
  },
  {
   "cell_type": "code",
   "execution_count": 2,
   "id": "2529dec7-a8ab-4e95-b704-5e145e6462e4",
   "metadata": {},
   "outputs": [],
   "source": [
    "# ignore ssl cert verification\n",
    "\n",
    "ox.settings.requests_kwargs={\n",
    "    'verify':False\n",
    "}\n",
    "\n",
    "#ignore warnings\n",
    "\n",
    "import warnings\n",
    "warnings.filterwarnings('ignore')"
   ]
  },
  {
   "cell_type": "code",
   "execution_count": 3,
   "id": "76645e6e-2d61-40e3-ad0f-7350972da754",
   "metadata": {},
   "outputs": [],
   "source": [
    "# reverse geocode lat/long\n",
    "\n",
    "geolocator = Nominatim(user_agent=\"test\")\n",
    "\n",
    "def reverse_geocoding(lat, lon):\n",
    "    try:\n",
    "        location = geolocator.reverse(Point(lat, lon))\n",
    "        return location.raw['display_name']\n",
    "    except:\n",
    "        return None"
   ]
  },
  {
   "cell_type": "code",
   "execution_count": 4,
   "id": "01c6d48e-cc80-4ec9-a3c9-79dd3f946c14",
   "metadata": {},
   "outputs": [],
   "source": [
    "# assumed origin p&r locations and CBD destination\n",
    "\n",
    "tepuna_site = [-37.68966554965317, 176.07276863384655]\n",
    "omokoroa_site = [-37.66467993152612, 176.0164613282822]\n",
    "tauriko_site = [-37.738500582474096, 176.09665898553007]\n",
    "domain_site = [-37.713064967025396, 176.28392062649655]\n",
    "\n",
    "pnr_sites = [tepuna_site, omokoroa_site, tauriko_site, domain_site]\n",
    "\n",
    "cbd = [-37.68395662843406, 176.16732617871457]\n"
   ]
  },
  {
   "cell_type": "code",
   "execution_count": 5,
   "id": "b59a119e-b6e2-4f0e-b17b-ad887cba8864",
   "metadata": {},
   "outputs": [
    {
     "data": {
      "text/plain": [
       "<networkx.classes.multidigraph.MultiDiGraph at 0x1e1f3eab1d0>"
      ]
     },
     "execution_count": 5,
     "metadata": {},
     "output_type": "execute_result"
    }
   ],
   "source": [
    "# define grpah and mode\n",
    "\n",
    "place = [\"Tauranga City, New Zealand\",\n",
    "        \"Western Bay of Plenty District, New Zealand\"]\n",
    "\n",
    "drive = \"drive\"\n",
    "pt = \"drive_service\"\n",
    "\n",
    "Gdr = ox.graph_from_place(place, network_type=drive)\n",
    "Gpt = ox.graph_from_place(place, network_type=pt)\n",
    "ox.add_edge_speeds(Gdr)\n",
    "ox.add_edge_speeds(Gpt)\n",
    "ox.add_edge_travel_times(Gdr)\n",
    "ox.add_edge_travel_times(Gpt)"
   ]
  },
  {
   "cell_type": "code",
   "execution_count": 6,
   "id": "53340200-7deb-47c7-a42a-640fe0f71e51",
   "metadata": {},
   "outputs": [
    {
     "data": {
      "text/html": [
       "<div>\n",
       "<style scoped>\n",
       "    .dataframe tbody tr th:only-of-type {\n",
       "        vertical-align: middle;\n",
       "    }\n",
       "\n",
       "    .dataframe tbody tr th {\n",
       "        vertical-align: top;\n",
       "    }\n",
       "\n",
       "    .dataframe thead th {\n",
       "        text-align: right;\n",
       "    }\n",
       "</style>\n",
       "<table border=\"1\" class=\"dataframe\">\n",
       "  <thead>\n",
       "    <tr style=\"text-align: right;\">\n",
       "      <th></th>\n",
       "      <th>Origin lat/long</th>\n",
       "      <th>Origin name</th>\n",
       "      <th>Destination name</th>\n",
       "      <th>Driving Time (minutes)</th>\n",
       "      <th>PT Time (minutes)</th>\n",
       "    </tr>\n",
       "  </thead>\n",
       "  <tbody>\n",
       "    <tr>\n",
       "      <th>0</th>\n",
       "      <td>[-37.68966554965317, 176.07276863384655]</td>\n",
       "      <td>Te Puna Road, Te Puna, Western Bay of Plenty D...</td>\n",
       "      <td>65, Durham Street, Tauranga Central, Tauranga,...</td>\n",
       "      <td>9.550000</td>\n",
       "      <td>9.516667</td>\n",
       "    </tr>\n",
       "    <tr>\n",
       "      <th>1</th>\n",
       "      <td>[-37.66467993152612, 176.0164613282822]</td>\n",
       "      <td>Omokoroa Road, Western Bay of Plenty District,...</td>\n",
       "      <td>65, Durham Street, Tauranga Central, Tauranga,...</td>\n",
       "      <td>14.416667</td>\n",
       "      <td>14.383333</td>\n",
       "    </tr>\n",
       "    <tr>\n",
       "      <th>2</th>\n",
       "      <td>[-37.738500582474096, 176.09665898553007]</td>\n",
       "      <td>764, State Highway 29, Tauriko, Tauranga, Taur...</td>\n",
       "      <td>65, Durham Street, Tauranga Central, Tauranga,...</td>\n",
       "      <td>6.900000</td>\n",
       "      <td>6.883333</td>\n",
       "    </tr>\n",
       "    <tr>\n",
       "      <th>3</th>\n",
       "      <td>[-37.713064967025396, 176.28392062649655]</td>\n",
       "      <td>Domain Road, Tauranga, Tauranga City, Bay of P...</td>\n",
       "      <td>65, Durham Street, Tauranga Central, Tauranga,...</td>\n",
       "      <td>11.216667</td>\n",
       "      <td>11.266667</td>\n",
       "    </tr>\n",
       "  </tbody>\n",
       "</table>\n",
       "</div>"
      ],
      "text/plain": [
       "                             Origin lat/long   \n",
       "0   [-37.68966554965317, 176.07276863384655]  \\\n",
       "1    [-37.66467993152612, 176.0164613282822]   \n",
       "2  [-37.738500582474096, 176.09665898553007]   \n",
       "3  [-37.713064967025396, 176.28392062649655]   \n",
       "\n",
       "                                         Origin name   \n",
       "0  Te Puna Road, Te Puna, Western Bay of Plenty D...  \\\n",
       "1  Omokoroa Road, Western Bay of Plenty District,...   \n",
       "2  764, State Highway 29, Tauriko, Tauranga, Taur...   \n",
       "3  Domain Road, Tauranga, Tauranga City, Bay of P...   \n",
       "\n",
       "                                    Destination name  Driving Time (minutes)   \n",
       "0  65, Durham Street, Tauranga Central, Tauranga,...                9.550000  \\\n",
       "1  65, Durham Street, Tauranga Central, Tauranga,...               14.416667   \n",
       "2  65, Durham Street, Tauranga Central, Tauranga,...                6.900000   \n",
       "3  65, Durham Street, Tauranga Central, Tauranga,...               11.216667   \n",
       "\n",
       "   PT Time (minutes)  \n",
       "0           9.516667  \n",
       "1          14.383333  \n",
       "2           6.883333  \n",
       "3          11.266667  "
      ]
     },
     "execution_count": 6,
     "metadata": {},
     "output_type": "execute_result"
    }
   ],
   "source": [
    "d = []\n",
    "for site in pnr_sites:\n",
    "    pnr_node = ox.nearest_nodes(Gdr, site[1], site[0])\n",
    "    cbd_node = ox.nearest_nodes(Gdr, 176.16732617871457, -37.68395662843406)\n",
    "    #edges = ox.graph_to_gdfs(G, edges=True, nodes=False)\n",
    "    #edges[\"highway\"] = edges[\"highway\"].astype(str)\n",
    "    #edges.groupby(\"highway\")[[\"length\", \"speed_kph\", \"travel_time\"]].mean().round(1)\n",
    "    dr_route = ox.shortest_path(Gdr, pnr_node, cbd_node, weight=\"travel_time\")\n",
    "    dr_route_time = int(sum(ox.utils_graph.route_to_gdf(Gdr, dr_route, \"travel_time\")[\"travel_time\"])) / 60 # sum route length in seconds of travel time and convert to minutes\n",
    "    pt_route = ox.shortest_path(Gpt, pnr_node, cbd_node, weight=\"travel_time\")\n",
    "    pt_route_time = int(sum(ox.utils_graph.route_to_gdf(Gpt, pt_route, \"travel_time\")[\"travel_time\"])) / 60 # sum route length in seconds of travel time and convert to minute\n",
    "    result = {'Origin lat/long':site,\n",
    "              'Origin name':np.vectorize(reverse_geocoding)(site[0],site[1]),\n",
    "              'Destination name': np.vectorize(reverse_geocoding)(cbd[0],cbd[1]),\n",
    "             'Driving Time (minutes)':dr_route_time,\n",
    "             'PT Time (minutes)':pt_route_time}\n",
    "    d.append(result)\n",
    "df = pd.DataFrame(data=d)\n",
    "df\n",
    "    "
   ]
  },
  {
   "cell_type": "code",
   "execution_count": null,
   "id": "5070fa0b-36f6-407e-bc1f-1a276253f92f",
   "metadata": {},
   "outputs": [],
   "source": []
  }
 ],
 "metadata": {
  "kernelspec": {
   "display_name": "Python 3 (ipykernel)",
   "language": "python",
   "name": "python3"
  },
  "language_info": {
   "codemirror_mode": {
    "name": "ipython",
    "version": 3
   },
   "file_extension": ".py",
   "mimetype": "text/x-python",
   "name": "python",
   "nbconvert_exporter": "python",
   "pygments_lexer": "ipython3",
   "version": "3.11.5"
  }
 },
 "nbformat": 4,
 "nbformat_minor": 5
}
