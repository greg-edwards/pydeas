{
 "cells": [
  {
   "cell_type": "code",
   "execution_count": 1,
   "id": "93c2c177-3c37-42d0-ab24-66bfccae2831",
   "metadata": {},
   "outputs": [],
   "source": [
    "import leafmap"
   ]
  },
  {
   "cell_type": "code",
   "execution_count": 2,
   "id": "febeb8df-5212-4a8d-aae1-c4a8ef2ba03f",
   "metadata": {},
   "outputs": [
    {
     "data": {
      "application/vnd.jupyter.widget-view+json": {
       "model_id": "1186cfa972b94c09be2e9d2ca48728b0",
       "version_major": 2,
       "version_minor": 0
      },
      "text/plain": [
       "Map(center=[0, 0], controls=(ZoomControl(options=['position', 'zoom_in_text', 'zoom_in_title', 'zoom_out_text'…"
      ]
     },
     "metadata": {},
     "output_type": "display_data"
    }
   ],
   "source": [
    "m = leafmap.Map(center=[0, 0], zoom=2)\n",
    "in_geojson = r'C:\\Users\\GSE1\\Beca\\3813283 - PT Services and Infrastructure SSBC - Documents\\Technical - Working Files\\GIS\\Data\\stops_frequencies.geojson'\n",
    "style = {\n",
    "    \"stroke\": True,\n",
    "    \"color\": \"#0000ff\",\n",
    "    \"weight\": 2,\n",
    "    \"opacity\": 1,\n",
    "    \"fill\": True,\n",
    "    \"fillColor\": \"#0000ff\",\n",
    "    \"fillOpacity\": 0.1,\n",
    "}\n",
    "hover_style = {\"fillOpacity\": 0.7}\n",
    "m.add_geojson(in_geojson, layer_name=\"Stop Frequencies\")\n",
    "m"
   ]
  },
  {
   "cell_type": "code",
   "execution_count": 3,
   "id": "ca0fbaa1-5fcd-4455-aa0a-2cd40c28ec6f",
   "metadata": {},
   "outputs": [
    {
     "data": {
      "application/vnd.jupyter.widget-view+json": {
       "model_id": "04f19da9daa14a56918b4d4d891768de",
       "version_major": 2,
       "version_minor": 0
      },
      "text/plain": [
       "Map(config={'version': 'v1', 'config': {'mapState': {'latitude': 40, 'longitude': -100, 'zoom': 2, 'bearing': …"
      ]
     },
     "metadata": {},
     "output_type": "display_data"
    }
   ],
   "source": [
    "import leafmap.kepler as leafmap\n",
    "m = leafmap.Map(center=[40, -100], zoom=2, height=600, widescreen=False)\n",
    "m"
   ]
  },
  {
   "cell_type": "code",
   "execution_count": 5,
   "id": "02a1832e-72a8-4384-b513-5b0a816fb5a5",
   "metadata": {},
   "outputs": [
    {
     "data": {
      "application/vnd.jupyter.widget-view+json": {
       "model_id": "bc4c711cac2b42beb60d672c515df34c",
       "version_major": 2,
       "version_minor": 0
      },
      "text/plain": [
       "Map(config={'version': 'v1', 'config': {'mapState': {'latitude': 0, 'longitude': 0, 'zoom': 2, 'bearing': 0, '…"
      ]
     },
     "metadata": {},
     "output_type": "display_data"
    }
   ],
   "source": [
    "m = leafmap.Map(center=[0, 0], zoom=2)\n",
    "in_geojson = r'C:\\Users\\GSE1\\Beca\\3813283 - PT Services and Infrastructure SSBC - Documents\\Technical - Working Files\\GIS\\Data\\stops_frequencies.geojson'\n",
    "\n",
    "m.add_geojson(in_geojson, layer_name=\"Stop Frequencies\")\n",
    "m"
   ]
  },
  {
   "cell_type": "code",
   "execution_count": 26,
   "id": "5881f3b1-2ff5-44d9-a896-5f155880b601",
   "metadata": {},
   "outputs": [
    {
     "data": {
      "application/vnd.jupyter.widget-view+json": {
       "model_id": "bed79fed90de4610929954d9c25ee99d",
       "version_major": 2,
       "version_minor": 0
      },
      "text/plain": [
       "Map(config={'version': 'v1', 'config': {'mapState': {'latitude': -40, 'longitude': -185, 'zoom': 5, 'bearing':…"
      ]
     },
     "metadata": {},
     "output_type": "display_data"
    }
   ],
   "source": [
    "m = leafmap.Map(center=[-40, -185], zoom=5)\n",
    "in_shp = r'C:\\Users\\GSE1\\Beca\\3813283 - PT Services and Infrastructure SSBC - Documents\\Technical - Working Files\\GIS\\Data\\line_frequencies_0600-1530\\line_frequencies.shp'\n",
    "m.add_shp(in_shp, \"Services and Frequencies\")\n",
    "m"
   ]
  },
  {
   "cell_type": "code",
   "execution_count": 27,
   "id": "54abc463-9445-4e8b-bb32-f6bc58065ea8",
   "metadata": {},
   "outputs": [],
   "source": [
    "m.to_html(\"Services and Frequencies.html\")"
   ]
  },
  {
   "cell_type": "code",
   "execution_count": 32,
   "id": "c05c4551-ed2f-4565-a0f0-110bdd57b144",
   "metadata": {},
   "outputs": [
    {
     "data": {
      "application/vnd.jupyter.widget-view+json": {
       "model_id": "c6f20949cf1a44cbb8fad2d2adfb6413",
       "version_major": 2,
       "version_minor": 0
      },
      "text/plain": [
       "Map(config={'version': 'v1', 'config': {'mapState': {'latitude': -38, 'longitude': -185, 'zoom': 6, 'bearing':…"
      ]
     },
     "metadata": {},
     "output_type": "display_data"
    }
   ],
   "source": [
    "m = leafmap.Map(center=[-38, -185], zoom=6)\n",
    "in_geojson = r'C:\\Users\\GSE1\\Beca\\3813283 - PT Services and Infrastructure SSBC - Documents\\Technical - Working Files\\GIS\\Data\\stops_frequencies.geojson'\n",
    "\n",
    "m.add_geojson(in_geojson, layer_name=\"Stop Frequencies\")\n",
    "m"
   ]
  },
  {
   "cell_type": "code",
   "execution_count": null,
   "id": "8bde1cc5-8da4-4aa9-bc1b-b4444dc76b78",
   "metadata": {},
   "outputs": [],
   "source": []
  }
 ],
 "metadata": {
  "kernelspec": {
   "display_name": "Python 3 (ipykernel)",
   "language": "python",
   "name": "python3"
  },
  "language_info": {
   "codemirror_mode": {
    "name": "ipython",
    "version": 3
   },
   "file_extension": ".py",
   "mimetype": "text/x-python",
   "name": "python",
   "nbconvert_exporter": "python",
   "pygments_lexer": "ipython3",
   "version": "3.11.0"
  }
 },
 "nbformat": 4,
 "nbformat_minor": 5
}
