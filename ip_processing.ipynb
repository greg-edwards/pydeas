{
 "cells": [
  {
   "cell_type": "code",
   "execution_count": 207,
   "id": "b14977b0-c430-43f1-9456-04ddb5c59e5d",
   "metadata": {},
   "outputs": [],
   "source": [
    "import pandas as pd\n",
    "import geopandas as gpd\n",
    "import numpy as np"
   ]
  },
  {
   "cell_type": "code",
   "execution_count": 228,
   "id": "89dd9508-1aa0-4724-9eec-5a19ebb539d2",
   "metadata": {},
   "outputs": [],
   "source": [
    "#import gdf's\n",
    "\n",
    "ip_intersection_key_locations = pd.read_excel(r'C:\\Users\\GSE1\\Beca\\3813283 - PT Services and Infrastructure SSBC - Documents\\Technical - Working Files\\01 SSBC\\05 Shortlist\\02 Infrastructure Options assessment\\Delay analysis\\Locations list\\ip_intersetion_key_locations.xlsx')\n",
    "ip_intersection_delay = pd.read_excel(r'C:\\Users\\GSE1\\Beca\\3813283 - PT Services and Infrastructure SSBC - Documents\\Technical - Working Files\\01 SSBC\\05 Shortlist\\02 Infrastructure Options assessment\\Delay analysis\\Locations list\\ip_intersections_delay.xlsx')\n",
    "ip_intersection_demand = pd.read_excel(r'C:\\Users\\GSE1\\Beca\\3813283 - PT Services and Infrastructure SSBC - Documents\\Technical - Working Files\\01 SSBC\\05 Shortlist\\02 Infrastructure Options assessment\\Delay analysis\\Locations list\\ip_intersections_pt_demand.xlsx')\n",
    "ip_intersection_impact = pd.read_excel(r'C:\\Users\\GSE1\\Beca\\3813283 - PT Services and Infrastructure SSBC - Documents\\Technical - Working Files\\01 SSBC\\05 Shortlist\\02 Infrastructure Options assessment\\Delay analysis\\Locations list\\ip_intersection_bus_threshold.xlsx')\n"
   ]
  },
  {
   "cell_type": "code",
   "execution_count": 229,
   "id": "6b513ebe-4ba6-441d-8dd1-eed22538f196",
   "metadata": {},
   "outputs": [
    {
     "data": {
      "text/html": [
       "<div>\n",
       "<style scoped>\n",
       "    .dataframe tbody tr th:only-of-type {\n",
       "        vertical-align: middle;\n",
       "    }\n",
       "\n",
       "    .dataframe tbody tr th {\n",
       "        vertical-align: top;\n",
       "    }\n",
       "\n",
       "    .dataframe thead th {\n",
       "        text-align: right;\n",
       "    }\n",
       "</style>\n",
       "<table border=\"1\" class=\"dataframe\">\n",
       "  <thead>\n",
       "    <tr style=\"text-align: right;\">\n",
       "      <th></th>\n",
       "      <th>index</th>\n",
       "      <th>ADT_PT</th>\n",
       "      <th>AM_PT</th>\n",
       "      <th>IP_PT</th>\n",
       "      <th>PM_PT</th>\n",
       "      <th>PT_BIN</th>\n",
       "      <th>DELAY_WAVG</th>\n",
       "      <th>LOS_WAVG</th>\n",
       "      <th>LABEL</th>\n",
       "      <th>geometry</th>\n",
       "      <th>rank</th>\n",
       "    </tr>\n",
       "  </thead>\n",
       "  <tbody>\n",
       "    <tr>\n",
       "      <th>0</th>\n",
       "      <td>0</td>\n",
       "      <td>1538.88330</td>\n",
       "      <td>333.87</td>\n",
       "      <td>102.34</td>\n",
       "      <td>52.10</td>\n",
       "      <td>3</td>\n",
       "      <td>131.64017</td>\n",
       "      <td>6</td>\n",
       "      <td>Cameron/15th</td>\n",
       "      <td>POINT (1878044 5822382)</td>\n",
       "      <td>38</td>\n",
       "    </tr>\n",
       "    <tr>\n",
       "      <th>1</th>\n",
       "      <td>1</td>\n",
       "      <td>1216.74878</td>\n",
       "      <td>252.22</td>\n",
       "      <td>84.82</td>\n",
       "      <td>40.11</td>\n",
       "      <td>2</td>\n",
       "      <td>131.64017</td>\n",
       "      <td>6</td>\n",
       "      <td>Cameron/15th</td>\n",
       "      <td>POINT (1878044 5822382)</td>\n",
       "      <td>23</td>\n",
       "    </tr>\n",
       "    <tr>\n",
       "      <th>2</th>\n",
       "      <td>2</td>\n",
       "      <td>505.53143</td>\n",
       "      <td>178.00</td>\n",
       "      <td>18.60</td>\n",
       "      <td>6.51</td>\n",
       "      <td>2</td>\n",
       "      <td>131.64017</td>\n",
       "      <td>6</td>\n",
       "      <td>Cameron/15th</td>\n",
       "      <td>POINT (1878044 5822382)</td>\n",
       "      <td>3</td>\n",
       "    </tr>\n",
       "    <tr>\n",
       "      <th>3</th>\n",
       "      <td>3</td>\n",
       "      <td>777.36578</td>\n",
       "      <td>209.55</td>\n",
       "      <td>41.70</td>\n",
       "      <td>22.65</td>\n",
       "      <td>2</td>\n",
       "      <td>52.02145</td>\n",
       "      <td>4</td>\n",
       "      <td>15th/Fraser</td>\n",
       "      <td>POINT (1878472 5822014)</td>\n",
       "      <td>14</td>\n",
       "    </tr>\n",
       "    <tr>\n",
       "      <th>4</th>\n",
       "      <td>4</td>\n",
       "      <td>970.96643</td>\n",
       "      <td>192.41</td>\n",
       "      <td>73.90</td>\n",
       "      <td>23.50</td>\n",
       "      <td>2</td>\n",
       "      <td>52.02145</td>\n",
       "      <td>4</td>\n",
       "      <td>15th/Fraser</td>\n",
       "      <td>POINT (1878472 5822014)</td>\n",
       "      <td>9</td>\n",
       "    </tr>\n",
       "  </tbody>\n",
       "</table>\n",
       "</div>"
      ],
      "text/plain": [
       "   index      ADT_PT   AM_PT   IP_PT  PM_PT  PT_BIN  DELAY_WAVG  LOS_WAVG   \n",
       "0      0  1538.88330  333.87  102.34  52.10       3   131.64017         6  \\\n",
       "1      1  1216.74878  252.22   84.82  40.11       2   131.64017         6   \n",
       "2      2   505.53143  178.00   18.60   6.51       2   131.64017         6   \n",
       "3      3   777.36578  209.55   41.70  22.65       2    52.02145         4   \n",
       "4      4   970.96643  192.41   73.90  23.50       2    52.02145         4   \n",
       "\n",
       "          LABEL                 geometry  rank  \n",
       "0  Cameron/15th  POINT (1878044 5822382)    38  \n",
       "1  Cameron/15th  POINT (1878044 5822382)    23  \n",
       "2  Cameron/15th  POINT (1878044 5822382)     3  \n",
       "3   15th/Fraser  POINT (1878472 5822014)    14  \n",
       "4   15th/Fraser  POINT (1878472 5822014)     9  "
      ]
     },
     "execution_count": 229,
     "metadata": {},
     "output_type": "execute_result"
    }
   ],
   "source": [
    "#convert to geojson\n",
    "\n",
    "ip_intersection_key_locations.head()"
   ]
  },
  {
   "cell_type": "code",
   "execution_count": 217,
   "id": "1758a697-7650-474c-8834-f85423641cba",
   "metadata": {},
   "outputs": [
    {
     "data": {
      "text/plain": [
       "(39, 11)"
      ]
     },
     "execution_count": 217,
     "metadata": {},
     "output_type": "execute_result"
    }
   ],
   "source": [
    "ip_intersection_key_locations.shape"
   ]
  },
  {
   "cell_type": "code",
   "execution_count": 218,
   "id": "81f54a11-0ca3-4405-8e25-685b8c04e917",
   "metadata": {},
   "outputs": [
    {
     "data": {
      "text/plain": [
       "(78, 21)"
      ]
     },
     "execution_count": 218,
     "metadata": {},
     "output_type": "execute_result"
    }
   ],
   "source": [
    "ip_intersection_delay.shape"
   ]
  },
  {
   "cell_type": "code",
   "execution_count": 230,
   "id": "698fb8c8-dffe-41aa-9d77-233cd3b8201e",
   "metadata": {},
   "outputs": [
    {
     "data": {
      "text/plain": [
       "Index(['index', 'ADT_PUBLIC', 'ADT_PT', 'AM_PT', 'IP_PT', 'PM_PT', 'PT_BIN',\n",
       "       'id', 'N', 'DELAY_MAX', 'LOS_MAX', 'DELAY_WAVG', 'LOS_WAVG', 'SECTOR',\n",
       "       'X', 'Y', 'LOCATION', 'LABEL', 'FAREZONE', 'geometry', 'rank'],\n",
       "      dtype='object')"
      ]
     },
     "execution_count": 230,
     "metadata": {},
     "output_type": "execute_result"
    }
   ],
   "source": [
    "ip_intersection_delay.columns"
   ]
  },
  {
   "cell_type": "code",
   "execution_count": 231,
   "id": "95a37e07-e977-4e9b-8fb3-77cbae7c9692",
   "metadata": {},
   "outputs": [
    {
     "name": "stdout",
     "output_type": "stream",
     "text": [
      "<class 'pandas.core.frame.DataFrame'>\n",
      "RangeIndex: 39 entries, 0 to 38\n",
      "Data columns (total 11 columns):\n",
      " #   Column      Non-Null Count  Dtype  \n",
      "---  ------      --------------  -----  \n",
      " 0   index       39 non-null     int64  \n",
      " 1   ADT_PT      39 non-null     float64\n",
      " 2   AM_PT       39 non-null     float64\n",
      " 3   IP_PT       39 non-null     float64\n",
      " 4   PM_PT       39 non-null     float64\n",
      " 5   PT_BIN      39 non-null     int64  \n",
      " 6   DELAY_WAVG  39 non-null     float64\n",
      " 7   LOS_WAVG    39 non-null     int64  \n",
      " 8   LABEL       39 non-null     object \n",
      " 9   geometry    39 non-null     object \n",
      " 10  rank        39 non-null     int64  \n",
      "dtypes: float64(5), int64(4), object(2)\n",
      "memory usage: 3.5+ KB\n"
     ]
    }
   ],
   "source": [
    "\n",
    "ip_intersection_key_locations.info()"
   ]
  },
  {
   "cell_type": "code",
   "execution_count": 232,
   "id": "0b88b21d-c3b8-415b-ae15-95f77b04ef25",
   "metadata": {},
   "outputs": [],
   "source": [
    "from shapely import wkt\n",
    "\n",
    "ip_intersection_key_locations['geometry'] = gpd.GeoSeries.from_wkt(ip_intersection_key_locations['geometry'])\n",
    "ip_intersection_delay['geometry'] = gpd.GeoSeries.from_wkt(ip_intersection_delay['geometry'])"
   ]
  },
  {
   "cell_type": "code",
   "execution_count": 234,
   "id": "d799c868-9502-41ef-9f20-b35af6830bde",
   "metadata": {},
   "outputs": [
    {
     "name": "stdout",
     "output_type": "stream",
     "text": [
      "<class 'pandas.core.frame.DataFrame'>\n",
      "RangeIndex: 78 entries, 0 to 77\n",
      "Data columns (total 21 columns):\n",
      " #   Column      Non-Null Count  Dtype   \n",
      "---  ------      --------------  -----   \n",
      " 0   index       78 non-null     int64   \n",
      " 1   ADT_PUBLIC  78 non-null     float64 \n",
      " 2   ADT_PT      78 non-null     float64 \n",
      " 3   AM_PT       78 non-null     float64 \n",
      " 4   IP_PT       78 non-null     float64 \n",
      " 5   PM_PT       78 non-null     float64 \n",
      " 6   PT_BIN      78 non-null     int64   \n",
      " 7   id          78 non-null     int64   \n",
      " 8   N           78 non-null     int64   \n",
      " 9   DELAY_MAX   78 non-null     float64 \n",
      " 10  LOS_MAX     78 non-null     int64   \n",
      " 11  DELAY_WAVG  78 non-null     float64 \n",
      " 12  LOS_WAVG    78 non-null     int64   \n",
      " 13  SECTOR      78 non-null     int64   \n",
      " 14  X           78 non-null     int64   \n",
      " 15  Y           78 non-null     int64   \n",
      " 16  LOCATION    78 non-null     int64   \n",
      " 17  LABEL       78 non-null     object  \n",
      " 18  FAREZONE    78 non-null     int64   \n",
      " 19  geometry    78 non-null     geometry\n",
      " 20  rank        78 non-null     int64   \n",
      "dtypes: float64(7), geometry(1), int64(12), object(1)\n",
      "memory usage: 12.9+ KB\n"
     ]
    }
   ],
   "source": [
    "ip_intersection_delay.info()"
   ]
  },
  {
   "cell_type": "code",
   "execution_count": 243,
   "id": "dcd82dd2-e5ef-43b5-b808-add07a5709aa",
   "metadata": {},
   "outputs": [],
   "source": [
    "merged_df_one = pd.concat([ip_intersection_key_locations, ip_intersection_delay], ignore_index=True)"
   ]
  },
  {
   "cell_type": "code",
   "execution_count": 244,
   "id": "8cfd4c7e-d90e-4f21-8aa7-0d0e140c6a30",
   "metadata": {},
   "outputs": [
    {
     "data": {
      "text/plain": [
       "(117, 21)"
      ]
     },
     "execution_count": 244,
     "metadata": {},
     "output_type": "execute_result"
    }
   ],
   "source": [
    "merged_df_one.shape"
   ]
  },
  {
   "cell_type": "code",
   "execution_count": 237,
   "id": "cffedc62-7fe0-4323-9f42-18dd2044b3c6",
   "metadata": {},
   "outputs": [
    {
     "data": {
      "text/html": [
       "<div>\n",
       "<style scoped>\n",
       "    .dataframe tbody tr th:only-of-type {\n",
       "        vertical-align: middle;\n",
       "    }\n",
       "\n",
       "    .dataframe tbody tr th {\n",
       "        vertical-align: top;\n",
       "    }\n",
       "\n",
       "    .dataframe thead th {\n",
       "        text-align: right;\n",
       "    }\n",
       "</style>\n",
       "<table border=\"1\" class=\"dataframe\">\n",
       "  <thead>\n",
       "    <tr style=\"text-align: right;\">\n",
       "      <th></th>\n",
       "      <th>index</th>\n",
       "      <th>ADT_PT</th>\n",
       "      <th>AM_PT</th>\n",
       "      <th>IP_PT</th>\n",
       "      <th>PM_PT</th>\n",
       "      <th>PT_BIN</th>\n",
       "      <th>DELAY_WAVG</th>\n",
       "      <th>LOS_WAVG</th>\n",
       "      <th>LABEL</th>\n",
       "      <th>geometry</th>\n",
       "      <th>...</th>\n",
       "      <th>ADT_PUBLIC</th>\n",
       "      <th>id</th>\n",
       "      <th>N</th>\n",
       "      <th>DELAY_MAX</th>\n",
       "      <th>LOS_MAX</th>\n",
       "      <th>SECTOR</th>\n",
       "      <th>X</th>\n",
       "      <th>Y</th>\n",
       "      <th>LOCATION</th>\n",
       "      <th>FAREZONE</th>\n",
       "    </tr>\n",
       "  </thead>\n",
       "  <tbody>\n",
       "    <tr>\n",
       "      <th>0</th>\n",
       "      <td>0</td>\n",
       "      <td>1538.88330</td>\n",
       "      <td>333.87</td>\n",
       "      <td>102.34</td>\n",
       "      <td>52.10</td>\n",
       "      <td>3</td>\n",
       "      <td>131.64017</td>\n",
       "      <td>6</td>\n",
       "      <td>Cameron/15th</td>\n",
       "      <td>POINT (1878044.000 5822382.000)</td>\n",
       "      <td>...</td>\n",
       "      <td>NaN</td>\n",
       "      <td>NaN</td>\n",
       "      <td>NaN</td>\n",
       "      <td>NaN</td>\n",
       "      <td>NaN</td>\n",
       "      <td>NaN</td>\n",
       "      <td>NaN</td>\n",
       "      <td>NaN</td>\n",
       "      <td>NaN</td>\n",
       "      <td>NaN</td>\n",
       "    </tr>\n",
       "    <tr>\n",
       "      <th>1</th>\n",
       "      <td>1</td>\n",
       "      <td>1216.74878</td>\n",
       "      <td>252.22</td>\n",
       "      <td>84.82</td>\n",
       "      <td>40.11</td>\n",
       "      <td>2</td>\n",
       "      <td>131.64017</td>\n",
       "      <td>6</td>\n",
       "      <td>Cameron/15th</td>\n",
       "      <td>POINT (1878044.000 5822382.000)</td>\n",
       "      <td>...</td>\n",
       "      <td>NaN</td>\n",
       "      <td>NaN</td>\n",
       "      <td>NaN</td>\n",
       "      <td>NaN</td>\n",
       "      <td>NaN</td>\n",
       "      <td>NaN</td>\n",
       "      <td>NaN</td>\n",
       "      <td>NaN</td>\n",
       "      <td>NaN</td>\n",
       "      <td>NaN</td>\n",
       "    </tr>\n",
       "    <tr>\n",
       "      <th>2</th>\n",
       "      <td>2</td>\n",
       "      <td>505.53143</td>\n",
       "      <td>178.00</td>\n",
       "      <td>18.60</td>\n",
       "      <td>6.51</td>\n",
       "      <td>2</td>\n",
       "      <td>131.64017</td>\n",
       "      <td>6</td>\n",
       "      <td>Cameron/15th</td>\n",
       "      <td>POINT (1878044.000 5822382.000)</td>\n",
       "      <td>...</td>\n",
       "      <td>NaN</td>\n",
       "      <td>NaN</td>\n",
       "      <td>NaN</td>\n",
       "      <td>NaN</td>\n",
       "      <td>NaN</td>\n",
       "      <td>NaN</td>\n",
       "      <td>NaN</td>\n",
       "      <td>NaN</td>\n",
       "      <td>NaN</td>\n",
       "      <td>NaN</td>\n",
       "    </tr>\n",
       "    <tr>\n",
       "      <th>3</th>\n",
       "      <td>3</td>\n",
       "      <td>777.36578</td>\n",
       "      <td>209.55</td>\n",
       "      <td>41.70</td>\n",
       "      <td>22.65</td>\n",
       "      <td>2</td>\n",
       "      <td>52.02145</td>\n",
       "      <td>4</td>\n",
       "      <td>15th/Fraser</td>\n",
       "      <td>POINT (1878472.000 5822014.000)</td>\n",
       "      <td>...</td>\n",
       "      <td>NaN</td>\n",
       "      <td>NaN</td>\n",
       "      <td>NaN</td>\n",
       "      <td>NaN</td>\n",
       "      <td>NaN</td>\n",
       "      <td>NaN</td>\n",
       "      <td>NaN</td>\n",
       "      <td>NaN</td>\n",
       "      <td>NaN</td>\n",
       "      <td>NaN</td>\n",
       "    </tr>\n",
       "    <tr>\n",
       "      <th>4</th>\n",
       "      <td>4</td>\n",
       "      <td>970.96643</td>\n",
       "      <td>192.41</td>\n",
       "      <td>73.90</td>\n",
       "      <td>23.50</td>\n",
       "      <td>2</td>\n",
       "      <td>52.02145</td>\n",
       "      <td>4</td>\n",
       "      <td>15th/Fraser</td>\n",
       "      <td>POINT (1878472.000 5822014.000)</td>\n",
       "      <td>...</td>\n",
       "      <td>NaN</td>\n",
       "      <td>NaN</td>\n",
       "      <td>NaN</td>\n",
       "      <td>NaN</td>\n",
       "      <td>NaN</td>\n",
       "      <td>NaN</td>\n",
       "      <td>NaN</td>\n",
       "      <td>NaN</td>\n",
       "      <td>NaN</td>\n",
       "      <td>NaN</td>\n",
       "    </tr>\n",
       "  </tbody>\n",
       "</table>\n",
       "<p>5 rows × 21 columns</p>\n",
       "</div>"
      ],
      "text/plain": [
       "   index      ADT_PT   AM_PT   IP_PT  PM_PT  PT_BIN  DELAY_WAVG  LOS_WAVG   \n",
       "0      0  1538.88330  333.87  102.34  52.10       3   131.64017         6  \\\n",
       "1      1  1216.74878  252.22   84.82  40.11       2   131.64017         6   \n",
       "2      2   505.53143  178.00   18.60   6.51       2   131.64017         6   \n",
       "3      3   777.36578  209.55   41.70  22.65       2    52.02145         4   \n",
       "4      4   970.96643  192.41   73.90  23.50       2    52.02145         4   \n",
       "\n",
       "          LABEL                         geometry  ...  ADT_PUBLIC  id   N   \n",
       "0  Cameron/15th  POINT (1878044.000 5822382.000)  ...         NaN NaN NaN  \\\n",
       "1  Cameron/15th  POINT (1878044.000 5822382.000)  ...         NaN NaN NaN   \n",
       "2  Cameron/15th  POINT (1878044.000 5822382.000)  ...         NaN NaN NaN   \n",
       "3   15th/Fraser  POINT (1878472.000 5822014.000)  ...         NaN NaN NaN   \n",
       "4   15th/Fraser  POINT (1878472.000 5822014.000)  ...         NaN NaN NaN   \n",
       "\n",
       "   DELAY_MAX  LOS_MAX  SECTOR   X   Y  LOCATION  FAREZONE  \n",
       "0        NaN      NaN     NaN NaN NaN       NaN       NaN  \n",
       "1        NaN      NaN     NaN NaN NaN       NaN       NaN  \n",
       "2        NaN      NaN     NaN NaN NaN       NaN       NaN  \n",
       "3        NaN      NaN     NaN NaN NaN       NaN       NaN  \n",
       "4        NaN      NaN     NaN NaN NaN       NaN       NaN  \n",
       "\n",
       "[5 rows x 21 columns]"
      ]
     },
     "execution_count": 237,
     "metadata": {},
     "output_type": "execute_result"
    }
   ],
   "source": [
    "merged_df_one.head()"
   ]
  },
  {
   "cell_type": "code",
   "execution_count": 238,
   "id": "602a6bf5-0631-4824-9fe3-bb24f9d3d922",
   "metadata": {},
   "outputs": [
    {
     "data": {
      "text/plain": [
       "Index(['index', 'ADT_PT', 'AM_PT', 'IP_PT', 'PM_PT', 'PT_BIN', 'DELAY_WAVG',\n",
       "       'LOS_WAVG', 'LABEL', 'geometry', 'rank', 'ADT_PUBLIC', 'id', 'N',\n",
       "       'DELAY_MAX', 'LOS_MAX', 'SECTOR', 'X', 'Y', 'LOCATION', 'FAREZONE'],\n",
       "      dtype='object')"
      ]
     },
     "execution_count": 238,
     "metadata": {},
     "output_type": "execute_result"
    }
   ],
   "source": [
    "merged_df_one.columns"
   ]
  },
  {
   "cell_type": "code",
   "execution_count": 245,
   "id": "c7718530-4dd7-49bb-b307-b3fc72216eec",
   "metadata": {},
   "outputs": [],
   "source": [
    "merged_df_one = merged_df_one.drop_duplicates(subset='geometry', keep='last')"
   ]
  },
  {
   "cell_type": "code",
   "execution_count": 246,
   "id": "25792c2e-1e12-46e7-b2c7-000312bad7d7",
   "metadata": {},
   "outputs": [
    {
     "data": {
      "text/plain": [
       "(38, 21)"
      ]
     },
     "execution_count": 246,
     "metadata": {},
     "output_type": "execute_result"
    }
   ],
   "source": [
    "merged_df_one.shape"
   ]
  },
  {
   "cell_type": "code",
   "execution_count": 206,
   "id": "b7d4e4d7-d244-457a-88d6-6acc44d43556",
   "metadata": {},
   "outputs": [
    {
     "data": {
      "text/html": [
       "<div>\n",
       "<style scoped>\n",
       "    .dataframe tbody tr th:only-of-type {\n",
       "        vertical-align: middle;\n",
       "    }\n",
       "\n",
       "    .dataframe tbody tr th {\n",
       "        vertical-align: top;\n",
       "    }\n",
       "\n",
       "    .dataframe thead th {\n",
       "        text-align: right;\n",
       "    }\n",
       "</style>\n",
       "<table border=\"1\" class=\"dataframe\">\n",
       "  <thead>\n",
       "    <tr style=\"text-align: right;\">\n",
       "      <th></th>\n",
       "      <th>index</th>\n",
       "      <th>ADT_PT</th>\n",
       "      <th>AM_PT</th>\n",
       "      <th>IP_PT</th>\n",
       "      <th>PM_PT</th>\n",
       "      <th>PT_BIN</th>\n",
       "      <th>DELAY_WAVG</th>\n",
       "      <th>LOS_WAVG</th>\n",
       "      <th>LABEL</th>\n",
       "      <th>geometry</th>\n",
       "      <th>...</th>\n",
       "      <th>ADT_PUBLIC</th>\n",
       "      <th>id</th>\n",
       "      <th>N</th>\n",
       "      <th>DELAY_MAX</th>\n",
       "      <th>LOS_MAX</th>\n",
       "      <th>SECTOR</th>\n",
       "      <th>X</th>\n",
       "      <th>Y</th>\n",
       "      <th>LOCATION</th>\n",
       "      <th>FAREZONE</th>\n",
       "    </tr>\n",
       "  </thead>\n",
       "  <tbody>\n",
       "    <tr>\n",
       "      <th>73</th>\n",
       "      <td>34</td>\n",
       "      <td>573.20001</td>\n",
       "      <td>177.05</td>\n",
       "      <td>23.49</td>\n",
       "      <td>18.86</td>\n",
       "      <td>2</td>\n",
       "      <td>34.78731</td>\n",
       "      <td>3</td>\n",
       "      <td>Fraser/Chadwick</td>\n",
       "      <td>POINT (1876709 5819513)</td>\n",
       "      <td>...</td>\n",
       "      <td>326.41003</td>\n",
       "      <td>1083.0</td>\n",
       "      <td>1304.0</td>\n",
       "      <td>40.8</td>\n",
       "      <td>4.0</td>\n",
       "      <td>0.0</td>\n",
       "      <td>1876709.0</td>\n",
       "      <td>5819513.0</td>\n",
       "      <td>0.0</td>\n",
       "      <td>2.0</td>\n",
       "    </tr>\n",
       "    <tr>\n",
       "      <th>83</th>\n",
       "      <td>44</td>\n",
       "      <td>578.73035</td>\n",
       "      <td>177.46</td>\n",
       "      <td>24.43</td>\n",
       "      <td>18.17</td>\n",
       "      <td>2</td>\n",
       "      <td>25.35626</td>\n",
       "      <td>3</td>\n",
       "      <td>Oropi</td>\n",
       "      <td>POINT (1876844 5818648)</td>\n",
       "      <td>...</td>\n",
       "      <td>304.92032</td>\n",
       "      <td>1194.0</td>\n",
       "      <td>1515.0</td>\n",
       "      <td>28.8</td>\n",
       "      <td>3.0</td>\n",
       "      <td>0.0</td>\n",
       "      <td>1876844.0</td>\n",
       "      <td>5818648.0</td>\n",
       "      <td>0.0</td>\n",
       "      <td>2.0</td>\n",
       "    </tr>\n",
       "    <tr>\n",
       "      <th>114</th>\n",
       "      <td>75</td>\n",
       "      <td>897.06818</td>\n",
       "      <td>201.40</td>\n",
       "      <td>53.53</td>\n",
       "      <td>40.77</td>\n",
       "      <td>2</td>\n",
       "      <td>28.53500</td>\n",
       "      <td>3</td>\n",
       "      <td>Maunganui/Hewletts/Golf</td>\n",
       "      <td>POINT (1882976 5826541)</td>\n",
       "      <td>...</td>\n",
       "      <td>868.56818</td>\n",
       "      <td>2468.0</td>\n",
       "      <td>1791.0</td>\n",
       "      <td>33.6</td>\n",
       "      <td>3.0</td>\n",
       "      <td>0.0</td>\n",
       "      <td>1882976.0</td>\n",
       "      <td>5826541.0</td>\n",
       "      <td>0.0</td>\n",
       "      <td>2.0</td>\n",
       "    </tr>\n",
       "  </tbody>\n",
       "</table>\n",
       "<p>3 rows × 21 columns</p>\n",
       "</div>"
      ],
      "text/plain": [
       "     index     ADT_PT   AM_PT  IP_PT  PM_PT  PT_BIN  DELAY_WAVG  LOS_WAVG   \n",
       "73      34  573.20001  177.05  23.49  18.86       2    34.78731         3  \\\n",
       "83      44  578.73035  177.46  24.43  18.17       2    25.35626         3   \n",
       "114     75  897.06818  201.40  53.53  40.77       2    28.53500         3   \n",
       "\n",
       "                       LABEL                 geometry  ...  ADT_PUBLIC   \n",
       "73           Fraser/Chadwick  POINT (1876709 5819513)  ...   326.41003  \\\n",
       "83                     Oropi  POINT (1876844 5818648)  ...   304.92032   \n",
       "114  Maunganui/Hewletts/Golf  POINT (1882976 5826541)  ...   868.56818   \n",
       "\n",
       "         id       N  DELAY_MAX  LOS_MAX  SECTOR          X          Y   \n",
       "73   1083.0  1304.0       40.8      4.0     0.0  1876709.0  5819513.0  \\\n",
       "83   1194.0  1515.0       28.8      3.0     0.0  1876844.0  5818648.0   \n",
       "114  2468.0  1791.0       33.6      3.0     0.0  1882976.0  5826541.0   \n",
       "\n",
       "     LOCATION  FAREZONE  \n",
       "73        0.0       2.0  \n",
       "83        0.0       2.0  \n",
       "114       0.0       2.0  \n",
       "\n",
       "[3 rows x 21 columns]"
      ]
     },
     "execution_count": 206,
     "metadata": {},
     "output_type": "execute_result"
    }
   ],
   "source": [
    "merged_df_one.head()"
   ]
  },
  {
   "cell_type": "code",
   "execution_count": 147,
   "id": "6e6a1d87-24f6-4081-bc73-23a9f3251a4d",
   "metadata": {},
   "outputs": [],
   "source": [
    "secondary_delay_locations = merged_df_one"
   ]
  },
  {
   "cell_type": "code",
   "execution_count": 51,
   "id": "fbc832b2-51b4-4aa6-9bec-a207cde98d58",
   "metadata": {},
   "outputs": [],
   "source": [
    "secondary_demand_locations = ip_intersection_key_locations.merge(ip_intersection_demand, how='left', on='geometry')"
   ]
  },
  {
   "cell_type": "code",
   "execution_count": 52,
   "id": "43fbbb71-dda3-422c-aab8-d621fb2b3699",
   "metadata": {},
   "outputs": [
    {
     "data": {
      "text/plain": [
       "(157, 30)"
      ]
     },
     "execution_count": 52,
     "metadata": {},
     "output_type": "execute_result"
    }
   ],
   "source": [
    "secondary_demand_locations.shape"
   ]
  },
  {
   "cell_type": "code",
   "execution_count": 54,
   "id": "f284a5a0-7506-4716-8fe1-bb7d8c4b9553",
   "metadata": {},
   "outputs": [],
   "source": [
    "secondary_demand_locations = secondary_demand_locations.drop_duplicates(subset=\"geometry\")"
   ]
  },
  {
   "cell_type": "code",
   "execution_count": 55,
   "id": "205597e7-9f28-4ad8-83c8-8c2b6b01c200",
   "metadata": {},
   "outputs": [
    {
     "data": {
      "text/plain": [
       "(20, 30)"
      ]
     },
     "execution_count": 55,
     "metadata": {},
     "output_type": "execute_result"
    }
   ],
   "source": [
    "secondary_demand_locations.shape"
   ]
  },
  {
   "cell_type": "code",
   "execution_count": 58,
   "id": "518158c3-3371-49fd-acb3-c9217f2c3664",
   "metadata": {},
   "outputs": [],
   "source": [
    "secondary_impact_locations = ip_intersection_key_locations.merge(ip_intersection_impact, how='left', on='geometry')"
   ]
  },
  {
   "cell_type": "code",
   "execution_count": 59,
   "id": "3dc968f4-e5fe-4577-92b3-ae271af097bc",
   "metadata": {},
   "outputs": [
    {
     "data": {
      "text/plain": [
       "(182, 50)"
      ]
     },
     "execution_count": 59,
     "metadata": {},
     "output_type": "execute_result"
    }
   ],
   "source": [
    "secondary_impact_locations.shape"
   ]
  },
  {
   "cell_type": "code",
   "execution_count": 60,
   "id": "247f5798-590f-4e15-b424-c72333b98de2",
   "metadata": {},
   "outputs": [],
   "source": [
    "secondary_impact_locations = secondary_impact_locations.drop_duplicates(subset='geometry')"
   ]
  },
  {
   "cell_type": "code",
   "execution_count": 61,
   "id": "7159ac33-4ef1-489d-950c-06001e5ebac0",
   "metadata": {},
   "outputs": [
    {
     "data": {
      "text/plain": [
       "(20, 50)"
      ]
     },
     "execution_count": 61,
     "metadata": {},
     "output_type": "execute_result"
    }
   ],
   "source": [
    "secondary_impact_locations.shape"
   ]
  },
  {
   "cell_type": "code",
   "execution_count": 248,
   "id": "238794cd-2c31-4d20-840b-13fbf21f8272",
   "metadata": {},
   "outputs": [],
   "source": [
    "secondary_delay_locations = gpd.GeoDataFrame(merged_df_one)"
   ]
  },
  {
   "cell_type": "code",
   "execution_count": 249,
   "id": "61a65c28-77ac-4d9f-b2a5-76f6afdc9679",
   "metadata": {},
   "outputs": [
    {
     "name": "stdout",
     "output_type": "stream",
     "text": [
      "<class 'geopandas.geodataframe.GeoDataFrame'>\n",
      "Index: 38 entries, 42 to 116\n",
      "Data columns (total 21 columns):\n",
      " #   Column      Non-Null Count  Dtype   \n",
      "---  ------      --------------  -----   \n",
      " 0   index       38 non-null     int64   \n",
      " 1   ADT_PT      38 non-null     float64 \n",
      " 2   AM_PT       38 non-null     float64 \n",
      " 3   IP_PT       38 non-null     float64 \n",
      " 4   PM_PT       38 non-null     float64 \n",
      " 5   PT_BIN      38 non-null     int64   \n",
      " 6   DELAY_WAVG  38 non-null     float64 \n",
      " 7   LOS_WAVG    38 non-null     int64   \n",
      " 8   LABEL       38 non-null     object  \n",
      " 9   geometry    38 non-null     geometry\n",
      " 10  rank        38 non-null     int64   \n",
      " 11  ADT_PUBLIC  38 non-null     float64 \n",
      " 12  id          38 non-null     float64 \n",
      " 13  N           38 non-null     float64 \n",
      " 14  DELAY_MAX   38 non-null     float64 \n",
      " 15  LOS_MAX     38 non-null     float64 \n",
      " 16  SECTOR      38 non-null     float64 \n",
      " 17  X           38 non-null     float64 \n",
      " 18  Y           38 non-null     float64 \n",
      " 19  LOCATION    38 non-null     float64 \n",
      " 20  FAREZONE    38 non-null     float64 \n",
      "dtypes: float64(15), geometry(1), int64(4), object(1)\n",
      "memory usage: 6.5+ KB\n"
     ]
    }
   ],
   "source": [
    "secondary_delay_locations.info()"
   ]
  },
  {
   "cell_type": "code",
   "execution_count": 253,
   "id": "1bdeb19c-a0ec-49bf-bbfa-1b56b9f214fa",
   "metadata": {},
   "outputs": [],
   "source": [
    "secondary_delay_locations = secondary_delay_locations.set_crs(2193, inplace=True)"
   ]
  },
  {
   "cell_type": "code",
   "execution_count": 254,
   "id": "9dc8e663-0ee5-4f06-90b3-e77446d18649",
   "metadata": {},
   "outputs": [
    {
     "data": {
      "text/html": [
       "<div style=\"width:100%;\"><div style=\"position:relative;width:100%;height:0;padding-bottom:60%;\"><span style=\"color:#565656\">Make this Notebook Trusted to load map: File -> Trust Notebook</span><iframe srcdoc=\"&lt;!DOCTYPE html&gt;\n",
       "&lt;html&gt;\n",
       "&lt;head&gt;\n",
       "    \n",
       "    &lt;meta http-equiv=&quot;content-type&quot; content=&quot;text/html; charset=UTF-8&quot; /&gt;\n",
       "    \n",
       "        &lt;script&gt;\n",
       "            L_NO_TOUCH = false;\n",
       "            L_DISABLE_3D = false;\n",
       "        &lt;/script&gt;\n",
       "    \n",
       "    &lt;style&gt;html, body {width: 100%;height: 100%;margin: 0;padding: 0;}&lt;/style&gt;\n",
       "    &lt;style&gt;#map {position:absolute;top:0;bottom:0;right:0;left:0;}&lt;/style&gt;\n",
       "    &lt;script src=&quot;https://cdn.jsdelivr.net/npm/leaflet@1.9.3/dist/leaflet.js&quot;&gt;&lt;/script&gt;\n",
       "    &lt;script src=&quot;https://code.jquery.com/jquery-1.12.4.min.js&quot;&gt;&lt;/script&gt;\n",
       "    &lt;script src=&quot;https://cdn.jsdelivr.net/npm/bootstrap@5.2.2/dist/js/bootstrap.bundle.min.js&quot;&gt;&lt;/script&gt;\n",
       "    &lt;script src=&quot;https://cdnjs.cloudflare.com/ajax/libs/Leaflet.awesome-markers/2.0.2/leaflet.awesome-markers.js&quot;&gt;&lt;/script&gt;\n",
       "    &lt;link rel=&quot;stylesheet&quot; href=&quot;https://cdn.jsdelivr.net/npm/leaflet@1.9.3/dist/leaflet.css&quot;/&gt;\n",
       "    &lt;link rel=&quot;stylesheet&quot; href=&quot;https://cdn.jsdelivr.net/npm/bootstrap@5.2.2/dist/css/bootstrap.min.css&quot;/&gt;\n",
       "    &lt;link rel=&quot;stylesheet&quot; href=&quot;https://netdna.bootstrapcdn.com/bootstrap/3.0.0/css/bootstrap.min.css&quot;/&gt;\n",
       "    &lt;link rel=&quot;stylesheet&quot; href=&quot;https://cdn.jsdelivr.net/npm/@fortawesome/fontawesome-free@6.2.0/css/all.min.css&quot;/&gt;\n",
       "    &lt;link rel=&quot;stylesheet&quot; href=&quot;https://cdnjs.cloudflare.com/ajax/libs/Leaflet.awesome-markers/2.0.2/leaflet.awesome-markers.css&quot;/&gt;\n",
       "    &lt;link rel=&quot;stylesheet&quot; href=&quot;https://cdn.jsdelivr.net/gh/python-visualization/folium/folium/templates/leaflet.awesome.rotate.min.css&quot;/&gt;\n",
       "    \n",
       "            &lt;meta name=&quot;viewport&quot; content=&quot;width=device-width,\n",
       "                initial-scale=1.0, maximum-scale=1.0, user-scalable=no&quot; /&gt;\n",
       "            &lt;style&gt;\n",
       "                #map_09aa993e3ae6f5dd3c7f549075b57ddb {\n",
       "                    position: relative;\n",
       "                    width: 100.0%;\n",
       "                    height: 100.0%;\n",
       "                    left: 0.0%;\n",
       "                    top: 0.0%;\n",
       "                }\n",
       "                .leaflet-container { font-size: 1rem; }\n",
       "            &lt;/style&gt;\n",
       "        \n",
       "    \n",
       "                    &lt;style&gt;\n",
       "                        .foliumtooltip {\n",
       "                            \n",
       "                        }\n",
       "                       .foliumtooltip table{\n",
       "                            margin: auto;\n",
       "                        }\n",
       "                        .foliumtooltip tr{\n",
       "                            text-align: left;\n",
       "                        }\n",
       "                        .foliumtooltip th{\n",
       "                            padding: 2px; padding-right: 8px;\n",
       "                        }\n",
       "                    &lt;/style&gt;\n",
       "            \n",
       "&lt;/head&gt;\n",
       "&lt;body&gt;\n",
       "    \n",
       "    \n",
       "            &lt;div class=&quot;folium-map&quot; id=&quot;map_09aa993e3ae6f5dd3c7f549075b57ddb&quot; &gt;&lt;/div&gt;\n",
       "        \n",
       "&lt;/body&gt;\n",
       "&lt;script&gt;\n",
       "    \n",
       "    \n",
       "            var map_09aa993e3ae6f5dd3c7f549075b57ddb = L.map(\n",
       "                &quot;map_09aa993e3ae6f5dd3c7f549075b57ddb&quot;,\n",
       "                {\n",
       "                    center: [-37.69974945081782, 176.15907531552446],\n",
       "                    crs: L.CRS.EPSG3857,\n",
       "                    zoom: 10,\n",
       "                    zoomControl: true,\n",
       "                    preferCanvas: false,\n",
       "                }\n",
       "            );\n",
       "            L.control.scale().addTo(map_09aa993e3ae6f5dd3c7f549075b57ddb);\n",
       "\n",
       "            \n",
       "\n",
       "        \n",
       "    \n",
       "            var tile_layer_8c710051ae127d58a42b21ff0777be5a = L.tileLayer(\n",
       "                &quot;https://a.basemaps.cartocdn.com/light_all/{z}/{x}/{y}{r}.png&quot;,\n",
       "                {&quot;attribution&quot;: &quot;\\u0026copy; \\u003ca href=\\&quot;https://www.openstreetmap.org/copyright\\&quot;\\u003eOpenStreetMap\\u003c/a\\u003e contributors \\u0026copy; \\u003ca href=\\&quot;https://carto.com/attributions\\&quot;\\u003eCARTO\\u003c/a\\u003e&quot;, &quot;detectRetina&quot;: false, &quot;maxNativeZoom&quot;: 20, &quot;maxZoom&quot;: 20, &quot;minZoom&quot;: 0, &quot;noWrap&quot;: false, &quot;opacity&quot;: 1, &quot;subdomains&quot;: &quot;abc&quot;, &quot;tms&quot;: false}\n",
       "            ).addTo(map_09aa993e3ae6f5dd3c7f549075b57ddb);\n",
       "        \n",
       "    \n",
       "            map_09aa993e3ae6f5dd3c7f549075b57ddb.fitBounds(\n",
       "                [[-37.73761880245338, 176.09298703317745], [-37.66188009918226, 176.22516359787147]],\n",
       "                {}\n",
       "            );\n",
       "        \n",
       "    \n",
       "        function geo_json_b4fd2e861595c451995371a767d368f8_styler(feature) {\n",
       "            switch(feature.id) {\n",
       "                default:\n",
       "                    return {&quot;fillOpacity&quot;: 0.5, &quot;weight&quot;: 2};\n",
       "            }\n",
       "        }\n",
       "        function geo_json_b4fd2e861595c451995371a767d368f8_highlighter(feature) {\n",
       "            switch(feature.id) {\n",
       "                default:\n",
       "                    return {&quot;fillOpacity&quot;: 0.75};\n",
       "            }\n",
       "        }\n",
       "        function geo_json_b4fd2e861595c451995371a767d368f8_pointToLayer(feature, latlng) {\n",
       "            var opts = {&quot;bubblingMouseEvents&quot;: true, &quot;color&quot;: &quot;#3388ff&quot;, &quot;dashArray&quot;: null, &quot;dashOffset&quot;: null, &quot;fill&quot;: true, &quot;fillColor&quot;: &quot;#3388ff&quot;, &quot;fillOpacity&quot;: 0.2, &quot;fillRule&quot;: &quot;evenodd&quot;, &quot;lineCap&quot;: &quot;round&quot;, &quot;lineJoin&quot;: &quot;round&quot;, &quot;opacity&quot;: 1.0, &quot;radius&quot;: &quot;6&quot;, &quot;stroke&quot;: true, &quot;weight&quot;: 3};\n",
       "            \n",
       "            let style = geo_json_b4fd2e861595c451995371a767d368f8_styler(feature)\n",
       "            Object.assign(opts, style)\n",
       "            \n",
       "            return new L.CircleMarker(latlng, opts)\n",
       "        }\n",
       "\n",
       "        function geo_json_b4fd2e861595c451995371a767d368f8_onEachFeature(feature, layer) {\n",
       "            layer.on({\n",
       "                mouseout: function(e) {\n",
       "                    if(typeof e.target.setStyle === &quot;function&quot;){\n",
       "                        geo_json_b4fd2e861595c451995371a767d368f8.resetStyle(e.target);\n",
       "                    }\n",
       "                },\n",
       "                mouseover: function(e) {\n",
       "                    if(typeof e.target.setStyle === &quot;function&quot;){\n",
       "                        const highlightStyle = geo_json_b4fd2e861595c451995371a767d368f8_highlighter(e.target.feature)\n",
       "                        e.target.setStyle(highlightStyle);\n",
       "                    }\n",
       "                },\n",
       "            });\n",
       "        };\n",
       "        var geo_json_b4fd2e861595c451995371a767d368f8 = L.geoJson(null, {\n",
       "                onEachFeature: geo_json_b4fd2e861595c451995371a767d368f8_onEachFeature,\n",
       "            \n",
       "                style: geo_json_b4fd2e861595c451995371a767d368f8_styler,\n",
       "                pointToLayer: geo_json_b4fd2e861595c451995371a767d368f8_pointToLayer\n",
       "        });\n",
       "\n",
       "        function geo_json_b4fd2e861595c451995371a767d368f8_add (data) {\n",
       "            geo_json_b4fd2e861595c451995371a767d368f8\n",
       "                .addData(data)\n",
       "                .addTo(map_09aa993e3ae6f5dd3c7f549075b57ddb);\n",
       "        }\n",
       "            geo_json_b4fd2e861595c451995371a767d368f8_add({&quot;bbox&quot;: [176.09298703317745, -37.73761880245338, 176.22516359787147, -37.66188009918226], &quot;features&quot;: [{&quot;bbox&quot;: [176.16537313404555, -37.68687087699134, 176.16537313404555, -37.68687087699134], &quot;geometry&quot;: {&quot;coordinates&quot;: [176.16537313404555, -37.68687087699134], &quot;type&quot;: &quot;Point&quot;}, &quot;id&quot;: &quot;42&quot;, &quot;properties&quot;: {&quot;ADT_PT&quot;: 2490.00464, &quot;ADT_PUBLIC&quot;: 2461.48462, &quot;AM_PT&quot;: 211.54, &quot;DELAY_MAX&quot;: 49.2, &quot;DELAY_WAVG&quot;: 32.36258, &quot;FAREZONE&quot;: 2.0, &quot;IP_PT&quot;: 189.26, &quot;LABEL&quot;: &quot;Cam/Elizabeth&quot;, &quot;LOCATION&quot;: 0.0, &quot;LOS_MAX&quot;: 4.0, &quot;LOS_WAVG&quot;: 3, &quot;N&quot;: 1431.0, &quot;PM_PT&quot;: 260.29, &quot;PT_BIN&quot;: 2, &quot;SECTOR&quot;: 0.0, &quot;X&quot;: 1879125.0, &quot;Y&quot;: 5824210.0, &quot;id&quot;: 1445.0, &quot;index&quot;: 3, &quot;rank&quot;: 44}, &quot;type&quot;: &quot;Feature&quot;}, {&quot;bbox&quot;: [176.09298703317745, -37.69923612666545, 176.09298703317745, -37.69923612666545], &quot;geometry&quot;: {&quot;coordinates&quot;: [176.09298703317745, -37.69923612666545], &quot;type&quot;: &quot;Point&quot;}, &quot;id&quot;: &quot;44&quot;, &quot;properties&quot;: {&quot;ADT_PT&quot;: 472.17258, &quot;ADT_PUBLIC&quot;: 244.75258, &quot;AM_PT&quot;: 197.67, &quot;DELAY_MAX&quot;: 30.6, &quot;DELAY_WAVG&quot;: 25.37175, &quot;FAREZONE&quot;: 2.0, &quot;IP_PT&quot;: 8.22, &quot;LABEL&quot;: &quot;Minden&quot;, &quot;LOCATION&quot;: 0.0, &quot;LOS_MAX&quot;: 3.0, &quot;LOS_WAVG&quot;: 3, &quot;N&quot;: 6311.0, &quot;PM_PT&quot;: 6.6, &quot;PT_BIN&quot;: 2, &quot;SECTOR&quot;: 0.0, &quot;X&quot;: 1872695.0, &quot;Y&quot;: 5823051.0, &quot;id&quot;: 4499.0, &quot;index&quot;: 5, &quot;rank&quot;: 60}, &quot;type&quot;: &quot;Feature&quot;}, {&quot;bbox&quot;: [176.14276039406906, -37.71302838927504, 176.14276039406906, -37.71302838927504], &quot;geometry&quot;: {&quot;coordinates&quot;: [176.14276039406906, -37.71302838927504], &quot;type&quot;: &quot;Point&quot;}, &quot;id&quot;: &quot;46&quot;, &quot;properties&quot;: {&quot;ADT_PT&quot;: 1131.32568, &quot;ADT_PUBLIC&quot;: 741.07568, &quot;AM_PT&quot;: 239.29, &quot;DELAY_MAX&quot;: 38.4, &quot;DELAY_WAVG&quot;: 22.44823, &quot;FAREZONE&quot;: 2.0, &quot;IP_PT&quot;: 78.78, &quot;LABEL&quot;: &quot;Cameron/23th&quot;, &quot;LOCATION&quot;: 0.0, &quot;LOS_MAX&quot;: 4.0, &quot;LOS_WAVG&quot;: 3, &quot;N&quot;: 1268.0, &quot;PM_PT&quot;: 34.36, &quot;PT_BIN&quot;: 2, &quot;SECTOR&quot;: 0.0, &quot;X&quot;: 1877033.0, &quot;Y&quot;: 5821374.0, &quot;id&quot;: 962.0, &quot;index&quot;: 7, &quot;rank&quot;: 69}, &quot;type&quot;: &quot;Feature&quot;}, {&quot;bbox&quot;: [176.1494196583726, -37.70798517631876, 176.1494196583726, -37.70798517631876], &quot;geometry&quot;: {&quot;coordinates&quot;: [176.1494196583726, -37.70798517631876], &quot;type&quot;: &quot;Point&quot;}, &quot;id&quot;: &quot;48&quot;, &quot;properties&quot;: {&quot;ADT_PT&quot;: 1138.08154, &quot;ADT_PUBLIC&quot;: 746.83154, &quot;AM_PT&quot;: 244.75, &quot;DELAY_MAX&quot;: 29.4, &quot;DELAY_WAVG&quot;: 21.85969, &quot;FAREZONE&quot;: 2.0, &quot;IP_PT&quot;: 78.42, &quot;LABEL&quot;: &quot;Cameron/18th&quot;, &quot;LOCATION&quot;: 0.0, &quot;LOS_MAX&quot;: 3.0, &quot;LOS_WAVG&quot;: 3, &quot;N&quot;: 1270.0, &quot;PM_PT&quot;: 33.75, &quot;PT_BIN&quot;: 2, &quot;SECTOR&quot;: 0.0, &quot;X&quot;: 1877639.0, &quot;Y&quot;: 5821914.0, &quot;id&quot;: 1966.0, &quot;index&quot;: 9, &quot;rank&quot;: 73}, &quot;type&quot;: &quot;Feature&quot;}, {&quot;bbox&quot;: [176.1513070132754, -37.70649311545819, 176.1513070132754, -37.70649311545819], &quot;geometry&quot;: {&quot;coordinates&quot;: [176.1513070132754, -37.70649311545819], &quot;type&quot;: &quot;Point&quot;}, &quot;id&quot;: &quot;50&quot;, &quot;properties&quot;: {&quot;ADT_PT&quot;: 1217.25159, &quot;ADT_PUBLIC&quot;: 844.44159, &quot;AM_PT&quot;: 250.86, &quot;DELAY_MAX&quot;: 40.8, &quot;DELAY_WAVG&quot;: 27.86193, &quot;FAREZONE&quot;: 2.0, &quot;IP_PT&quot;: 85.26, &quot;LABEL&quot;: &quot;Cameron/17th&quot;, &quot;LOCATION&quot;: 0.0, &quot;LOS_MAX&quot;: 4.0, &quot;LOS_WAVG&quot;: 3, &quot;N&quot;: 1276.0, &quot;PM_PT&quot;: 40.17, &quot;PT_BIN&quot;: 2, &quot;SECTOR&quot;: 0.0, &quot;X&quot;: 1877811.0, &quot;Y&quot;: 5822074.0, &quot;id&quot;: 990.0, &quot;index&quot;: 11, &quot;rank&quot;: 58}, &quot;type&quot;: &quot;Feature&quot;}, {&quot;bbox&quot;: [176.15382876618287, -37.70365057820671, 176.15382876618287, -37.70365057820671], &quot;geometry&quot;: {&quot;coordinates&quot;: [176.15382876618287, -37.70365057820671], &quot;type&quot;: &quot;Point&quot;}, &quot;id&quot;: &quot;53&quot;, &quot;properties&quot;: {&quot;ADT_PT&quot;: 505.53143, &quot;ADT_PUBLIC&quot;: 256.13141, &quot;AM_PT&quot;: 178.0, &quot;DELAY_MAX&quot;: 180.6, &quot;DELAY_WAVG&quot;: 131.64017, &quot;FAREZONE&quot;: 2.0, &quot;IP_PT&quot;: 18.6, &quot;LABEL&quot;: &quot;Cameron/15th&quot;, &quot;LOCATION&quot;: 0.0, &quot;LOS_MAX&quot;: 6.0, &quot;LOS_WAVG&quot;: 6, &quot;N&quot;: 1274.0, &quot;PM_PT&quot;: 6.51, &quot;PT_BIN&quot;: 2, &quot;SECTOR&quot;: 0.0, &quot;X&quot;: 1878044.0, &quot;Y&quot;: 5822382.0, &quot;id&quot;: 1905.0, &quot;index&quot;: 14, &quot;rank&quot;: 9}, &quot;type&quot;: &quot;Feature&quot;}, {&quot;bbox&quot;: [176.15606122417893, -37.70949225585123, 176.15606122417893, -37.70949225585123], &quot;geometry&quot;: {&quot;coordinates&quot;: [176.15606122417893, -37.70949225585123], &quot;type&quot;: &quot;Point&quot;}, &quot;id&quot;: &quot;55&quot;, &quot;properties&quot;: {&quot;ADT_PT&quot;: 964.10193, &quot;ADT_PUBLIC&quot;: 448.39194, &quot;AM_PT&quot;: 190.17, &quot;DELAY_MAX&quot;: 22.8, &quot;DELAY_WAVG&quot;: 20.86911, &quot;FAREZONE&quot;: 2.0, &quot;IP_PT&quot;: 73.42, &quot;LABEL&quot;: &quot;Fraser/17th&quot;, &quot;LOCATION&quot;: 0.0, &quot;LOS_MAX&quot;: 3.0, &quot;LOS_WAVG&quot;: 3, &quot;N&quot;: 1277.0, &quot;PM_PT&quot;: 23.88, &quot;PT_BIN&quot;: 2, &quot;SECTOR&quot;: 0.0, &quot;X&quot;: 1878219.0, &quot;Y&quot;: 5821727.0, &quot;id&quot;: 994.0, &quot;index&quot;: 16, &quot;rank&quot;: 75}, &quot;type&quot;: &quot;Feature&quot;}, {&quot;bbox&quot;: [176.15254863288132, -37.705018309335664, 176.15254863288132, -37.705018309335664], &quot;geometry&quot;: {&quot;coordinates&quot;: [176.15254863288132, -37.705018309335664], &quot;type&quot;: &quot;Point&quot;}, &quot;id&quot;: &quot;57&quot;, &quot;properties&quot;: {&quot;ADT_PT&quot;: 1216.74878, &quot;ADT_PUBLIC&quot;: 845.67883, &quot;AM_PT&quot;: 252.22, &quot;DELAY_MAX&quot;: 36.0, &quot;DELAY_WAVG&quot;: 25.22843, &quot;FAREZONE&quot;: 2.0, &quot;IP_PT&quot;: 84.82, &quot;LABEL&quot;: &quot;0&quot;, &quot;LOCATION&quot;: 0.0, &quot;LOS_MAX&quot;: 4.0, &quot;LOS_WAVG&quot;: 3, &quot;N&quot;: 1475.0, &quot;PM_PT&quot;: 40.11, &quot;PT_BIN&quot;: 2, &quot;SECTOR&quot;: 0.0, &quot;X&quot;: 1877926.0, &quot;Y&quot;: 5822234.0, &quot;id&quot;: 1573.0, &quot;index&quot;: 18, &quot;rank&quot;: 63}, &quot;type&quot;: &quot;Feature&quot;}, {&quot;bbox&quot;: [176.15746711357284, -37.70814814559402, 176.15746711357284, -37.70814814559402], &quot;geometry&quot;: {&quot;coordinates&quot;: [176.15746711357284, -37.70814814559402], &quot;type&quot;: &quot;Point&quot;}, &quot;id&quot;: &quot;59&quot;, &quot;properties&quot;: {&quot;ADT_PT&quot;: 970.96643, &quot;ADT_PUBLIC&quot;: 454.21643, &quot;AM_PT&quot;: 192.41, &quot;DELAY_MAX&quot;: 25.8, &quot;DELAY_WAVG&quot;: 24.62267, &quot;FAREZONE&quot;: 2.0, &quot;IP_PT&quot;: 73.9, &quot;LABEL&quot;: &quot;15th/Fraser&quot;, &quot;LOCATION&quot;: 0.0, &quot;LOS_MAX&quot;: 3.0, &quot;LOS_WAVG&quot;: 3, &quot;N&quot;: 1474.0, &quot;PM_PT&quot;: 23.5, &quot;PT_BIN&quot;: 2, &quot;SECTOR&quot;: 0.0, &quot;X&quot;: 1878348.0, &quot;Y&quot;: 5821872.0, &quot;id&quot;: 1570.0, &quot;index&quot;: 20, &quot;rank&quot;: 65}, &quot;type&quot;: &quot;Feature&quot;}, {&quot;bbox&quot;: [176.15651730739225, -37.70100173761015, 176.15651730739225, -37.70100173761015], &quot;geometry&quot;: {&quot;coordinates&quot;: [176.15651730739225, -37.70100173761015], &quot;type&quot;: &quot;Point&quot;}, &quot;id&quot;: &quot;61&quot;, &quot;properties&quot;: {&quot;ADT_PT&quot;: 1540.67773, &quot;ADT_PUBLIC&quot;: 1290.74768, &quot;AM_PT&quot;: 336.49, &quot;DELAY_MAX&quot;: 55.8, &quot;DELAY_WAVG&quot;: 34.53656, &quot;FAREZONE&quot;: 2.0, &quot;IP_PT&quot;: 101.45, &quot;LABEL&quot;: &quot;Cameron/13th&quot;, &quot;LOCATION&quot;: 0.0, &quot;LOS_MAX&quot;: 5.0, &quot;LOS_WAVG&quot;: 3, &quot;N&quot;: 1279.0, &quot;PM_PT&quot;: 53.02, &quot;PT_BIN&quot;: 3, &quot;SECTOR&quot;: 0.0, &quot;X&quot;: 1878291.0, &quot;Y&quot;: 5822668.0, &quot;id&quot;: 1006.0, &quot;index&quot;: 22, &quot;rank&quot;: 41}, &quot;type&quot;: &quot;Feature&quot;}, {&quot;bbox&quot;: [176.15881746184886, -37.706832538312725, 176.15881746184886, -37.706832538312725], &quot;geometry&quot;: {&quot;coordinates&quot;: [176.15881746184886, -37.706832538312725], &quot;type&quot;: &quot;Point&quot;}, &quot;id&quot;: &quot;63&quot;, &quot;properties&quot;: {&quot;ADT_PT&quot;: 970.96643, &quot;ADT_PUBLIC&quot;: 454.21643, &quot;AM_PT&quot;: 192.41, &quot;DELAY_MAX&quot;: 69.6, &quot;DELAY_WAVG&quot;: 52.02145, &quot;FAREZONE&quot;: 2.0, &quot;IP_PT&quot;: 73.9, &quot;LABEL&quot;: &quot;15th/Fraser&quot;, &quot;LOCATION&quot;: 0.0, &quot;LOS_MAX&quot;: 5.0, &quot;LOS_WAVG&quot;: 4, &quot;N&quot;: 1281.0, &quot;PM_PT&quot;: 23.5, &quot;PT_BIN&quot;: 2, &quot;SECTOR&quot;: 0.0, &quot;X&quot;: 1878472.0, &quot;Y&quot;: 5822014.0, &quot;id&quot;: 1570.0, &quot;index&quot;: 24, &quot;rank&quot;: 21}, &quot;type&quot;: &quot;Feature&quot;}, {&quot;bbox&quot;: [176.15919395069741, -37.69834414732231, 176.15919395069741, -37.69834414732231], &quot;geometry&quot;: {&quot;coordinates&quot;: [176.15919395069741, -37.69834414732231], &quot;type&quot;: &quot;Point&quot;}, &quot;id&quot;: &quot;66&quot;, &quot;properties&quot;: {&quot;ADT_PT&quot;: 2415.34131, &quot;ADT_PUBLIC&quot;: 2367.16138, &quot;AM_PT&quot;: 199.52, &quot;DELAY_MAX&quot;: 47.4, &quot;DELAY_WAVG&quot;: 40.52772, &quot;FAREZONE&quot;: 2.0, &quot;IP_PT&quot;: 171.88, &quot;LABEL&quot;: &quot;Cameron/11th&quot;, &quot;LOCATION&quot;: 0.0, &quot;LOS_MAX&quot;: 4.0, &quot;LOS_WAVG&quot;: 4, &quot;N&quot;: 1283.0, &quot;PM_PT&quot;: 287.0, &quot;PT_BIN&quot;: 2, &quot;SECTOR&quot;: 0.0, &quot;X&quot;: 1878537.0, &quot;Y&quot;: 5822955.0, &quot;id&quot;: 1948.0, &quot;index&quot;: 27, &quot;rank&quot;: 36}, &quot;type&quot;: &quot;Feature&quot;}, {&quot;bbox&quot;: [176.16283500105004, -37.69303873509689, 176.16283500105004, -37.69303873509689], &quot;geometry&quot;: {&quot;coordinates&quot;: [176.16283500105004, -37.69303873509689], &quot;type&quot;: &quot;Point&quot;}, &quot;id&quot;: &quot;70&quot;, &quot;properties&quot;: {&quot;ADT_PT&quot;: 2541.46973, &quot;ADT_PUBLIC&quot;: 2454.85986, &quot;AM_PT&quot;: 429.7, &quot;DELAY_MAX&quot;: 32.4, &quot;DELAY_WAVG&quot;: 30.12529, &quot;FAREZONE&quot;: 2.0, &quot;IP_PT&quot;: 195.75, &quot;LABEL&quot;: &quot;Cam/6th&quot;, &quot;LOCATION&quot;: 0.0, &quot;LOS_MAX&quot;: 3.0, &quot;LOS_WAVG&quot;: 3, &quot;N&quot;: 1294.0, &quot;PM_PT&quot;: 104.12, &quot;PT_BIN&quot;: 4, &quot;SECTOR&quot;: 0.0, &quot;X&quot;: 1878878.0, &quot;Y&quot;: 5823533.0, &quot;id&quot;: 1405.0, &quot;index&quot;: 31, &quot;rank&quot;: 54}, &quot;type&quot;: &quot;Feature&quot;}, {&quot;bbox&quot;: [176.13576418751876, -37.72166615308173, 176.13576418751876, -37.72166615308173], &quot;geometry&quot;: {&quot;coordinates&quot;: [176.13576418751876, -37.72166615308173], &quot;type&quot;: &quot;Point&quot;}, &quot;id&quot;: &quot;72&quot;, &quot;properties&quot;: {&quot;ADT_PT&quot;: 1090.34583, &quot;ADT_PUBLIC&quot;: 627.05585, &quot;AM_PT&quot;: 288.85, &quot;DELAY_MAX&quot;: 39.6, &quot;DELAY_WAVG&quot;: 21.92235, &quot;FAREZONE&quot;: 2.0, &quot;IP_PT&quot;: 60.43, &quot;LABEL&quot;: &quot;0&quot;, &quot;LOCATION&quot;: 0.0, &quot;LOS_MAX&quot;: 4.0, &quot;LOS_WAVG&quot;: 3, &quot;N&quot;: 1624.0, &quot;PM_PT&quot;: 30.57, &quot;PT_BIN&quot;: 3, &quot;SECTOR&quot;: 0.0, &quot;X&quot;: 1876384.0, &quot;Y&quot;: 5820436.0, &quot;id&quot;: 1972.0, &quot;index&quot;: 33, &quot;rank&quot;: 71}, &quot;type&quot;: &quot;Feature&quot;}, {&quot;bbox&quot;: [176.13979746359098, -37.72987483138376, 176.13979746359098, -37.72987483138376], &quot;geometry&quot;: {&quot;coordinates&quot;: [176.13979746359098, -37.72987483138376], &quot;type&quot;: &quot;Point&quot;}, &quot;id&quot;: &quot;73&quot;, &quot;properties&quot;: {&quot;ADT_PT&quot;: 573.20001, &quot;ADT_PUBLIC&quot;: 326.41003, &quot;AM_PT&quot;: 177.05, &quot;DELAY_MAX&quot;: 40.8, &quot;DELAY_WAVG&quot;: 34.78731, &quot;FAREZONE&quot;: 2.0, &quot;IP_PT&quot;: 23.49, &quot;LABEL&quot;: &quot;Fraser/Chadwick&quot;, &quot;LOCATION&quot;: 0.0, &quot;LOS_MAX&quot;: 4.0, &quot;LOS_WAVG&quot;: 3, &quot;N&quot;: 1304.0, &quot;PM_PT&quot;: 18.86, &quot;PT_BIN&quot;: 2, &quot;SECTOR&quot;: 0.0, &quot;X&quot;: 1876709.0, &quot;Y&quot;: 5819513.0, &quot;id&quot;: 1083.0, &quot;index&quot;: 34, &quot;rank&quot;: 40}, &quot;type&quot;: &quot;Feature&quot;}, {&quot;bbox&quot;: [176.14673182016656, -37.717895815177535, 176.14673182016656, -37.717895815177535], &quot;geometry&quot;: {&quot;coordinates&quot;: [176.14673182016656, -37.717895815177535], &quot;type&quot;: &quot;Point&quot;}, &quot;id&quot;: &quot;75&quot;, &quot;properties&quot;: {&quot;ADT_PT&quot;: 798.6333, &quot;ADT_PUBLIC&quot;: 405.90332, &quot;AM_PT&quot;: 221.83, &quot;DELAY_MAX&quot;: 172.8, &quot;DELAY_WAVG&quot;: 94.52766, &quot;FAREZONE&quot;: 2.0, &quot;IP_PT&quot;: 42.2, &quot;LABEL&quot;: &quot;Fraser/Courtney&quot;, &quot;LOCATION&quot;: 0.0, &quot;LOS_MAX&quot;: 6.0, &quot;LOS_WAVG&quot;: 6, &quot;N&quot;: 1308.0, &quot;PM_PT&quot;: 20.41, &quot;PT_BIN&quot;: 2, &quot;SECTOR&quot;: 0.0, &quot;X&quot;: 1877365.0, &quot;Y&quot;: 5820822.0, &quot;id&quot;: 1098.0, &quot;index&quot;: 36, &quot;rank&quot;: 15}, &quot;type&quot;: &quot;Feature&quot;}, {&quot;bbox&quot;: [176.16827714888822, -37.726562303445355, 176.16827714888822, -37.726562303445355], &quot;geometry&quot;: {&quot;coordinates&quot;: [176.16827714888822, -37.726562303445355], &quot;type&quot;: &quot;Point&quot;}, &quot;id&quot;: &quot;77&quot;, &quot;properties&quot;: {&quot;ADT_PT&quot;: 621.24573, &quot;ADT_PUBLIC&quot;: 396.00571, &quot;AM_PT&quot;: 180.62, &quot;DELAY_MAX&quot;: 247.8, &quot;DELAY_WAVG&quot;: 190.58772, &quot;FAREZONE&quot;: 2.0, &quot;IP_PT&quot;: 27.47, &quot;LABEL&quot;: &quot;SH29/Welc&quot;, &quot;LOCATION&quot;: 0.0, &quot;LOS_MAX&quot;: 6.0, &quot;LOS_WAVG&quot;: 6, &quot;N&quot;: 1313.0, &quot;PM_PT&quot;: 23.29, &quot;PT_BIN&quot;: 2, &quot;SECTOR&quot;: 0.0, &quot;X&quot;: 1879232.0, &quot;Y&quot;: 5819796.0, &quot;id&quot;: 1629.0, &quot;index&quot;: 38, &quot;rank&quot;: 1}, &quot;type&quot;: &quot;Feature&quot;}, {&quot;bbox&quot;: [176.16476222251524, -37.68983352017982, 176.16476222251524, -37.68983352017982], &quot;geometry&quot;: {&quot;coordinates&quot;: [176.16476222251524, -37.68983352017982], &quot;type&quot;: &quot;Point&quot;}, &quot;id&quot;: &quot;81&quot;, &quot;properties&quot;: {&quot;ADT_PT&quot;: 2524.35547, &quot;ADT_PUBLIC&quot;: 2457.08545, &quot;AM_PT&quot;: 404.46, &quot;DELAY_MAX&quot;: 37.8, &quot;DELAY_WAVG&quot;: 30.64382, &quot;FAREZONE&quot;: 2.0, &quot;IP_PT&quot;: 199.38, &quot;LABEL&quot;: &quot;Cam/3rd&quot;, &quot;LOCATION&quot;: 0.0, &quot;LOS_MAX&quot;: 4.0, &quot;LOS_WAVG&quot;: 3, &quot;N&quot;: 1424.0, &quot;PM_PT&quot;: 106.69, &quot;PT_BIN&quot;: 4, &quot;SECTOR&quot;: 0.0, &quot;X&quot;: 1879060.0, &quot;Y&quot;: 5823883.0, &quot;id&quot;: 1423.0, &quot;index&quot;: 42, &quot;rank&quot;: 48}, &quot;type&quot;: &quot;Feature&quot;}, {&quot;bbox&quot;: [176.12306205600953, -37.73493290487146, 176.12306205600953, -37.73493290487146], &quot;geometry&quot;: {&quot;coordinates&quot;: [176.12306205600953, -37.73493290487146], &quot;type&quot;: &quot;Point&quot;}, &quot;id&quot;: &quot;82&quot;, &quot;properties&quot;: {&quot;ADT_PT&quot;: 949.01105, &quot;ADT_PUBLIC&quot;: 619.73108, &quot;AM_PT&quot;: 262.73, &quot;DELAY_MAX&quot;: 285.0, &quot;DELAY_WAVG&quot;: 186.51358, &quot;FAREZONE&quot;: 2.0, &quot;IP_PT&quot;: 47.75, &quot;LABEL&quot;: &quot;Cam/SH29&quot;, &quot;LOCATION&quot;: 0.0, &quot;LOS_MAX&quot;: 6.0, &quot;LOS_WAVG&quot;: 6, &quot;N&quot;: 1339.0, &quot;PM_PT&quot;: 30.47, &quot;PT_BIN&quot;: 3, &quot;SECTOR&quot;: 0.0, &quot;X&quot;: 1875215.0, &quot;Y&quot;: 5819001.0, &quot;id&quot;: 1190.0, &quot;index&quot;: 43, &quot;rank&quot;: 3}, &quot;type&quot;: &quot;Feature&quot;}, {&quot;bbox&quot;: [176.14165642824472, -37.73761880245338, 176.14165642824472, -37.73761880245338], &quot;geometry&quot;: {&quot;coordinates&quot;: [176.14165642824472, -37.73761880245338], &quot;type&quot;: &quot;Point&quot;}, &quot;id&quot;: &quot;83&quot;, &quot;properties&quot;: {&quot;ADT_PT&quot;: 578.73035, &quot;ADT_PUBLIC&quot;: 304.92032, &quot;AM_PT&quot;: 177.46, &quot;DELAY_MAX&quot;: 28.8, &quot;DELAY_WAVG&quot;: 25.35626, &quot;FAREZONE&quot;: 2.0, &quot;IP_PT&quot;: 24.43, &quot;LABEL&quot;: &quot;Oropi&quot;, &quot;LOCATION&quot;: 0.0, &quot;LOS_MAX&quot;: 3.0, &quot;LOS_WAVG&quot;: 3, &quot;N&quot;: 1515.0, &quot;PM_PT&quot;: 18.17, &quot;PT_BIN&quot;: 2, &quot;SECTOR&quot;: 0.0, &quot;X&quot;: 1876844.0, &quot;Y&quot;: 5818648.0, &quot;id&quot;: 1194.0, &quot;index&quot;: 44, &quot;rank&quot;: 62}, &quot;type&quot;: &quot;Feature&quot;}, {&quot;bbox&quot;: [176.21888053064364, -37.673393016553455, 176.21888053064364, -37.673393016553455], &quot;geometry&quot;: {&quot;coordinates&quot;: [176.21888053064364, -37.673393016553455], &quot;type&quot;: &quot;Point&quot;}, &quot;id&quot;: &quot;85&quot;, &quot;properties&quot;: {&quot;ADT_PT&quot;: 842.18591, &quot;ADT_PUBLIC&quot;: 477.9259, &quot;AM_PT&quot;: 274.54, &quot;DELAY_MAX&quot;: 51.0, &quot;DELAY_WAVG&quot;: 51.0, &quot;FAREZONE&quot;: 2.0, &quot;IP_PT&quot;: 33.01, &quot;LABEL&quot;: &quot;0&quot;, &quot;LOCATION&quot;: 0.0, &quot;LOS_MAX&quot;: 4.0, &quot;LOS_WAVG&quot;: 4, &quot;N&quot;: 1722.0, &quot;PM_PT&quot;: 20.89, &quot;PT_BIN&quot;: 3, &quot;SECTOR&quot;: 0.0, &quot;X&quot;: 1883896.0, &quot;Y&quot;: 5825545.0, &quot;id&quot;: 2253.0, &quot;index&quot;: 46, &quot;rank&quot;: 23}, &quot;type&quot;: &quot;Feature&quot;}, {&quot;bbox&quot;: [176.11422064706954, -37.70263208998704, 176.11422064706954, -37.70263208998704], &quot;geometry&quot;: {&quot;coordinates&quot;: [176.11422064706954, -37.70263208998704], &quot;type&quot;: &quot;Point&quot;}, &quot;id&quot;: &quot;87&quot;, &quot;properties&quot;: {&quot;ADT_PT&quot;: 527.52484, &quot;ADT_PUBLIC&quot;: 84.32482, &quot;AM_PT&quot;: 187.59, &quot;DELAY_MAX&quot;: 21.6, &quot;DELAY_WAVG&quot;: 20.31675, &quot;FAREZONE&quot;: 2.0, &quot;IP_PT&quot;: 18.94, &quot;LABEL&quot;: &quot;Moffat/Orange&quot;, &quot;LOCATION&quot;: 0.0, &quot;LOS_MAX&quot;: 3.0, &quot;LOS_WAVG&quot;: 3, &quot;N&quot;: 1364.0, &quot;PM_PT&quot;: 6.89, &quot;PT_BIN&quot;: 2, &quot;SECTOR&quot;: 0.0, &quot;X&quot;: 1874555.0, &quot;Y&quot;: 5822612.0, &quot;id&quot;: 1520.0, &quot;index&quot;: 48, &quot;rank&quot;: 77}, &quot;type&quot;: &quot;Feature&quot;}, {&quot;bbox&quot;: [176.13596056032145, -37.69082896591695, 176.13596056032145, -37.69082896591695], &quot;geometry&quot;: {&quot;coordinates&quot;: [176.13596056032145, -37.69082896591695], &quot;type&quot;: &quot;Point&quot;}, &quot;id&quot;: &quot;89&quot;, &quot;properties&quot;: {&quot;ADT_PT&quot;: 1023.56757, &quot;ADT_PUBLIC&quot;: 576.70758, &quot;AM_PT&quot;: 206.19, &quot;DELAY_MAX&quot;: 63.0, &quot;DELAY_WAVG&quot;: 50.06301, &quot;FAREZONE&quot;: 2.0, &quot;IP_PT&quot;: 69.91, &quot;LABEL&quot;: &quot;Birch&quot;, &quot;LOCATION&quot;: 0.0, &quot;LOS_MAX&quot;: 5.0, &quot;LOS_WAVG&quot;: 4, &quot;N&quot;: 1452.0, &quot;PM_PT&quot;: 42.37, &quot;PT_BIN&quot;: 2, &quot;SECTOR&quot;: 0.0, &quot;X&quot;: 1876516.0, &quot;Y&quot;: 5823858.0, &quot;id&quot;: 2654.0, &quot;index&quot;: 50, &quot;rank&quot;: 25}, &quot;type&quot;: &quot;Feature&quot;}, {&quot;bbox&quot;: [176.1357449436945, -37.69055539707021, 176.1357449436945, -37.69055539707021], &quot;geometry&quot;: {&quot;coordinates&quot;: [176.1357449436945, -37.69055539707021], &quot;type&quot;: &quot;Point&quot;}, &quot;id&quot;: &quot;91&quot;, &quot;properties&quot;: {&quot;ADT_PT&quot;: 1023.56757, &quot;ADT_PUBLIC&quot;: 576.70758, &quot;AM_PT&quot;: 206.19, &quot;DELAY_MAX&quot;: 44.4, &quot;DELAY_WAVG&quot;: 39.41348, &quot;FAREZONE&quot;: 2.0, &quot;IP_PT&quot;: 69.91, &quot;LABEL&quot;: &quot;Otumoetai/Bellevue&quot;, &quot;LOCATION&quot;: 0.0, &quot;LOS_MAX&quot;: 4.0, &quot;LOS_WAVG&quot;: 4, &quot;N&quot;: 1848.0, &quot;PM_PT&quot;: 42.37, &quot;PT_BIN&quot;: 2, &quot;SECTOR&quot;: 0.0, &quot;X&quot;: 1876498.0, &quot;Y&quot;: 5823889.0, &quot;id&quot;: 2654.0, &quot;index&quot;: 52, &quot;rank&quot;: 38}, &quot;type&quot;: &quot;Feature&quot;}, {&quot;bbox&quot;: [176.21188875551266, -37.66188009918226, 176.21188875551266, -37.66188009918226], &quot;geometry&quot;: {&quot;coordinates&quot;: [176.21188875551266, -37.66188009918226], &quot;type&quot;: &quot;Point&quot;}, &quot;id&quot;: &quot;93&quot;, &quot;properties&quot;: {&quot;ADT_PT&quot;: 357.56, &quot;ADT_PUBLIC&quot;: 0.0, &quot;AM_PT&quot;: 178.78, &quot;DELAY_MAX&quot;: 133.2, &quot;DELAY_WAVG&quot;: 120.47836, &quot;FAREZONE&quot;: 2.0, &quot;IP_PT&quot;: 0.0, &quot;LABEL&quot;: &quot;0&quot;, &quot;LOCATION&quot;: 0.0, &quot;LOS_MAX&quot;: 6.0, &quot;LOS_WAVG&quot;: 6, &quot;N&quot;: 1741.0, &quot;PM_PT&quot;: 0.0, &quot;PT_BIN&quot;: 2, &quot;SECTOR&quot;: 0.0, &quot;X&quot;: 1883323.0, &quot;Y&quot;: 5826844.0, &quot;id&quot;: 2309.0, &quot;index&quot;: 54, &quot;rank&quot;: 13}, &quot;type&quot;: &quot;Feature&quot;}, {&quot;bbox&quot;: [176.1381772803443, -37.71649326413113, 176.1381772803443, -37.71649326413113], &quot;geometry&quot;: {&quot;coordinates&quot;: [176.1381772803443, -37.71649326413113], &quot;type&quot;: &quot;Point&quot;}, &quot;id&quot;: &quot;95&quot;, &quot;properties&quot;: {&quot;ADT_PT&quot;: 1090.34583, &quot;ADT_PUBLIC&quot;: 627.05585, &quot;AM_PT&quot;: 288.85, &quot;DELAY_MAX&quot;: 132.6, &quot;DELAY_WAVG&quot;: 132.60001, &quot;FAREZONE&quot;: 2.0, &quot;IP_PT&quot;: 60.43, &quot;LABEL&quot;: &quot;0&quot;, &quot;LOCATION&quot;: 0.0, &quot;LOS_MAX&quot;: 6.0, &quot;LOS_WAVG&quot;: 6, &quot;N&quot;: 1526.0, &quot;PM_PT&quot;: 30.57, &quot;PT_BIN&quot;: 3, &quot;SECTOR&quot;: 0.0, &quot;X&quot;: 1876616.0, &quot;Y&quot;: 5821003.0, &quot;id&quot;: 1972.0, &quot;index&quot;: 56, &quot;rank&quot;: 6}, &quot;type&quot;: &quot;Feature&quot;}, {&quot;bbox&quot;: [176.20325950038279, -37.66572793522541, 176.20325950038279, -37.66572793522541], &quot;geometry&quot;: {&quot;coordinates&quot;: [176.20325950038279, -37.66572793522541], &quot;type&quot;: &quot;Point&quot;}, &quot;id&quot;: &quot;97&quot;, &quot;properties&quot;: {&quot;ADT_PT&quot;: 1318.72205, &quot;ADT_PUBLIC&quot;: 1287.52197, &quot;AM_PT&quot;: 264.99, &quot;DELAY_MAX&quot;: 70.8, &quot;DELAY_WAVG&quot;: 45.25225, &quot;FAREZONE&quot;: 2.0, &quot;IP_PT&quot;: 83.18, &quot;LABEL&quot;: &quot;Hewletts&quot;, &quot;LOCATION&quot;: 0.0, &quot;LOS_MAX&quot;: 5.0, &quot;LOS_WAVG&quot;: 4, &quot;N&quot;: 1739.0, &quot;PM_PT&quot;: 70.88, &quot;PT_BIN&quot;: 3, &quot;SECTOR&quot;: 0.0, &quot;X&quot;: 1882547.0, &quot;Y&quot;: 5826443.0, &quot;id&quot;: 2300.0, &quot;index&quot;: 58, &quot;rank&quot;: 31}, &quot;type&quot;: &quot;Feature&quot;}, {&quot;bbox&quot;: [176.16391756147058, -37.70995722602986, 176.16391756147058, -37.70995722602986], &quot;geometry&quot;: {&quot;coordinates&quot;: [176.16391756147058, -37.70995722602986], &quot;type&quot;: &quot;Point&quot;}, &quot;id&quot;: &quot;99&quot;, &quot;properties&quot;: {&quot;ADT_PT&quot;: 644.61383, &quot;ADT_PUBLIC&quot;: 286.51385, &quot;AM_PT&quot;: 228.32, &quot;DELAY_MAX&quot;: 295.8, &quot;DELAY_WAVG&quot;: 129.84154, &quot;FAREZONE&quot;: 2.0, &quot;IP_PT&quot;: 21.92, &quot;LABEL&quot;: &quot;0&quot;, &quot;LOCATION&quot;: 0.0, &quot;LOS_MAX&quot;: 6.0, &quot;LOS_WAVG&quot;: 6, &quot;N&quot;: 1613.0, &quot;PM_PT&quot;: 11.56, &quot;PT_BIN&quot;: 2, &quot;SECTOR&quot;: 0.0, &quot;X&quot;: 1878910.0, &quot;Y&quot;: 5821652.0, &quot;id&quot;: 1937.0, &quot;index&quot;: 60, &quot;rank&quot;: 11}, &quot;type&quot;: &quot;Feature&quot;}, {&quot;bbox&quot;: [176.16138108271412, -37.70844860592272, 176.16138108271412, -37.70844860592272], &quot;geometry&quot;: {&quot;coordinates&quot;: [176.16138108271412, -37.70844860592272], &quot;type&quot;: &quot;Point&quot;}, &quot;id&quot;: &quot;100&quot;, &quot;properties&quot;: {&quot;ADT_PT&quot;: 644.61383, &quot;ADT_PUBLIC&quot;: 286.51385, &quot;AM_PT&quot;: 228.32, &quot;DELAY_MAX&quot;: 67.8, &quot;DELAY_WAVG&quot;: 47.11393, &quot;FAREZONE&quot;: 2.0, &quot;IP_PT&quot;: 21.92, &quot;LABEL&quot;: &quot;15th/Grace&quot;, &quot;LOCATION&quot;: 0.0, &quot;LOS_MAX&quot;: 5.0, &quot;LOS_WAVG&quot;: 4, &quot;N&quot;: 1287.0, &quot;PM_PT&quot;: 11.56, &quot;PT_BIN&quot;: 2, &quot;SECTOR&quot;: 0.0, &quot;X&quot;: 1878692.0, &quot;Y&quot;: 5821827.0, &quot;id&quot;: 1937.0, &quot;index&quot;: 61, &quot;rank&quot;: 30}, &quot;type&quot;: &quot;Feature&quot;}, {&quot;bbox&quot;: [176.22516359787147, -37.67556373221693, 176.22516359787147, -37.67556373221693], &quot;geometry&quot;: {&quot;coordinates&quot;: [176.22516359787147, -37.67556373221693], &quot;type&quot;: &quot;Point&quot;}, &quot;id&quot;: &quot;102&quot;, &quot;properties&quot;: {&quot;ADT_PT&quot;: 750.22552, &quot;ADT_PUBLIC&quot;: 439.10556, &quot;AM_PT&quot;: 195.18, &quot;DELAY_MAX&quot;: 36.6, &quot;DELAY_WAVG&quot;: 23.38592, &quot;FAREZONE&quot;: 2.0, &quot;IP_PT&quot;: 29.95, &quot;LABEL&quot;: &quot;Girven/Gloucester&quot;, &quot;LOCATION&quot;: 0.0, &quot;LOS_MAX&quot;: 4.0, &quot;LOS_WAVG&quot;: 3, &quot;N&quot;: 1715.0, &quot;PM_PT&quot;: 53.11, &quot;PT_BIN&quot;: 2, &quot;SECTOR&quot;: 0.0, &quot;X&quot;: 1884442.0, &quot;Y&quot;: 5825285.0, &quot;id&quot;: 3002.0, &quot;index&quot;: 63, &quot;rank&quot;: 67}, &quot;type&quot;: &quot;Feature&quot;}, {&quot;bbox&quot;: [176.22241186660276, -37.6764138659045, 176.22241186660276, -37.6764138659045], &quot;geometry&quot;: {&quot;coordinates&quot;: [176.22241186660276, -37.6764138659045], &quot;type&quot;: &quot;Point&quot;}, &quot;id&quot;: &quot;104&quot;, &quot;properties&quot;: {&quot;ADT_PT&quot;: 680.03839, &quot;ADT_PUBLIC&quot;: 354.15842, &quot;AM_PT&quot;: 196.22, &quot;DELAY_MAX&quot;: 36.0, &quot;DELAY_WAVG&quot;: 30.55314, &quot;FAREZONE&quot;: 2.0, &quot;IP_PT&quot;: 20.69, &quot;LABEL&quot;: &quot;Maunganui/Girven&quot;, &quot;LOCATION&quot;: 0.0, &quot;LOS_MAX&quot;: 4.0, &quot;LOS_WAVG&quot;: 3, &quot;N&quot;: 1720.0, &quot;PM_PT&quot;: 50.87, &quot;PT_BIN&quot;: 2, &quot;SECTOR&quot;: 0.0, &quot;X&quot;: 1884196.0, &quot;Y&quot;: 5825199.0, &quot;id&quot;: 3340.0, &quot;index&quot;: 65, &quot;rank&quot;: 51}, &quot;type&quot;: &quot;Feature&quot;}, {&quot;bbox&quot;: [176.21328055326006, -37.669707705054705, 176.21328055326006, -37.669707705054705], &quot;geometry&quot;: {&quot;coordinates&quot;: [176.21328055326006, -37.669707705054705], &quot;type&quot;: &quot;Point&quot;}, &quot;id&quot;: &quot;105&quot;, &quot;properties&quot;: {&quot;ADT_PT&quot;: 842.18591, &quot;ADT_PUBLIC&quot;: 477.9259, &quot;AM_PT&quot;: 274.54, &quot;DELAY_MAX&quot;: 49.8, &quot;DELAY_WAVG&quot;: 49.8, &quot;FAREZONE&quot;: 2.0, &quot;IP_PT&quot;: 33.01, &quot;LABEL&quot;: &quot;0&quot;, &quot;LOCATION&quot;: 0.0, &quot;LOS_MAX&quot;: 4.0, &quot;LOS_WAVG&quot;: 4, &quot;N&quot;: 1434.0, &quot;PM_PT&quot;: 20.89, &quot;PT_BIN&quot;: 3, &quot;SECTOR&quot;: 0.0, &quot;X&quot;: 1883416.0, &quot;Y&quot;: 5825971.0, &quot;id&quot;: 2253.0, &quot;index&quot;: 66, &quot;rank&quot;: 27}, &quot;type&quot;: &quot;Feature&quot;}, {&quot;bbox&quot;: [176.19718184901973, -37.66566775570692, 176.19718184901973, -37.66566775570692], &quot;geometry&quot;: {&quot;coordinates&quot;: [176.19718184901973, -37.66566775570692], &quot;type&quot;: &quot;Point&quot;}, &quot;id&quot;: &quot;107&quot;, &quot;properties&quot;: {&quot;ADT_PT&quot;: 1320.79041, &quot;ADT_PUBLIC&quot;: 1289.5304, &quot;AM_PT&quot;: 259.48, &quot;DELAY_MAX&quot;: 61.8, &quot;DELAY_WAVG&quot;: 48.8799, &quot;FAREZONE&quot;: 2.0, &quot;IP_PT&quot;: 83.33, &quot;LABEL&quot;: &quot;0&quot;, &quot;LOCATION&quot;: 0.0, &quot;LOS_MAX&quot;: 5.0, &quot;LOS_WAVG&quot;: 4, &quot;N&quot;: 1747.0, &quot;PM_PT&quot;: 75.25, &quot;PT_BIN&quot;: 2, &quot;SECTOR&quot;: 0.0, &quot;X&quot;: 1882011.0, &quot;Y&quot;: 5826468.0, &quot;id&quot;: 2327.0, &quot;index&quot;: 68, &quot;rank&quot;: 28}, &quot;type&quot;: &quot;Feature&quot;}, {&quot;bbox&quot;: [176.1871040273637, -37.66562542757337, 176.1871040273637, -37.66562542757337], &quot;geometry&quot;: {&quot;coordinates&quot;: [176.1871040273637, -37.66562542757337], &quot;type&quot;: &quot;Point&quot;}, &quot;id&quot;: &quot;109&quot;, &quot;properties&quot;: {&quot;ADT_PT&quot;: 1318.39063, &quot;ADT_PUBLIC&quot;: 1286.83069, &quot;AM_PT&quot;: 254.79, &quot;DELAY_MAX&quot;: 141.0, &quot;DELAY_WAVG&quot;: 89.50476, &quot;FAREZONE&quot;: 2.0, &quot;IP_PT&quot;: 83.26, &quot;LABEL&quot;: &quot;Hewletts/Totara&quot;, &quot;LOCATION&quot;: 0.0, &quot;LOS_MAX&quot;: 6.0, &quot;LOS_WAVG&quot;: 6, &quot;N&quot;: 1746.0, &quot;PM_PT&quot;: 77.97, &quot;PT_BIN&quot;: 2, &quot;SECTOR&quot;: 0.0, &quot;X&quot;: 1881122.0, &quot;Y&quot;: 5826503.0, &quot;id&quot;: 3309.0, &quot;index&quot;: 70, &quot;rank&quot;: 17}, &quot;type&quot;: &quot;Feature&quot;}, {&quot;bbox&quot;: [176.18438274992627, -37.66559989263219, 176.18438274992627, -37.66559989263219], &quot;geometry&quot;: {&quot;coordinates&quot;: [176.18438274992627, -37.66559989263219], &quot;type&quot;: &quot;Point&quot;}, &quot;id&quot;: &quot;111&quot;, &quot;properties&quot;: {&quot;ADT_PT&quot;: 1324.47131, &quot;ADT_PUBLIC&quot;: 1292.81128, &quot;AM_PT&quot;: 249.81, &quot;DELAY_MAX&quot;: 158.4, &quot;DELAY_WAVG&quot;: 142.47505, &quot;FAREZONE&quot;: 2.0, &quot;IP_PT&quot;: 84.02, &quot;LABEL&quot;: &quot;Hewletts/Tasman&quot;, &quot;LOCATION&quot;: 0.0, &quot;LOS_MAX&quot;: 6.0, &quot;LOS_WAVG&quot;: 6, &quot;N&quot;: 1818.0, &quot;PM_PT&quot;: 81.83, &quot;PT_BIN&quot;: 2, &quot;SECTOR&quot;: 0.0, &quot;X&quot;: 1880882.0, &quot;Y&quot;: 5826514.0, &quot;id&quot;: 2556.0, &quot;index&quot;: 72, &quot;rank&quot;: 4}, &quot;type&quot;: &quot;Feature&quot;}, {&quot;bbox&quot;: [176.1907094941327, -37.66565398968947, 176.1907094941327, -37.66565398968947], &quot;geometry&quot;: {&quot;coordinates&quot;: [176.1907094941327, -37.66565398968947], &quot;type&quot;: &quot;Point&quot;}, &quot;id&quot;: &quot;113&quot;, &quot;properties&quot;: {&quot;ADT_PT&quot;: 1318.39063, &quot;ADT_PUBLIC&quot;: 1286.83069, &quot;AM_PT&quot;: 254.79, &quot;DELAY_MAX&quot;: 66.0, &quot;DELAY_WAVG&quot;: 56.47982, &quot;FAREZONE&quot;: 2.0, &quot;IP_PT&quot;: 83.26, &quot;LABEL&quot;: &quot;0&quot;, &quot;LOCATION&quot;: 0.0, &quot;LOS_MAX&quot;: 5.0, &quot;LOS_WAVG&quot;: 5, &quot;N&quot;: 2267.0, &quot;PM_PT&quot;: 77.97, &quot;PT_BIN&quot;: 2, &quot;SECTOR&quot;: 0.0, &quot;X&quot;: 1881440.0, &quot;Y&quot;: 5826489.0, &quot;id&quot;: 3309.0, &quot;index&quot;: 74, &quot;rank&quot;: 19}, &quot;type&quot;: &quot;Feature&quot;}, {&quot;bbox&quot;: [176.20807812403376, -37.66471387932037, 176.20807812403376, -37.66471387932037], &quot;geometry&quot;: {&quot;coordinates&quot;: [176.20807812403376, -37.66471387932037], &quot;type&quot;: &quot;Point&quot;}, &quot;id&quot;: &quot;114&quot;, &quot;properties&quot;: {&quot;ADT_PT&quot;: 897.06818, &quot;ADT_PUBLIC&quot;: 868.56818, &quot;AM_PT&quot;: 201.4, &quot;DELAY_MAX&quot;: 33.6, &quot;DELAY_WAVG&quot;: 28.535, &quot;FAREZONE&quot;: 2.0, &quot;IP_PT&quot;: 53.53, &quot;LABEL&quot;: &quot;Maunganui/Hewletts/Golf&quot;, &quot;LOCATION&quot;: 0.0, &quot;LOS_MAX&quot;: 3.0, &quot;LOS_WAVG&quot;: 3, &quot;N&quot;: 1791.0, &quot;PM_PT&quot;: 40.77, &quot;PT_BIN&quot;: 2, &quot;SECTOR&quot;: 0.0, &quot;X&quot;: 1882976.0, &quot;Y&quot;: 5826541.0, &quot;id&quot;: 2468.0, &quot;index&quot;: 75, &quot;rank&quot;: 57}, &quot;type&quot;: &quot;Feature&quot;}, {&quot;bbox&quot;: [176.124605004201, -37.73358553786211, 176.124605004201, -37.73358553786211], &quot;geometry&quot;: {&quot;coordinates&quot;: [176.124605004201, -37.73358553786211], &quot;type&quot;: &quot;Point&quot;}, &quot;id&quot;: &quot;116&quot;, &quot;properties&quot;: {&quot;ADT_PT&quot;: 1139.771, &quot;ADT_PUBLIC&quot;: 800.57098, &quot;AM_PT&quot;: 300.69, &quot;DELAY_MAX&quot;: 67.2, &quot;DELAY_WAVG&quot;: 41.76892, &quot;FAREZONE&quot;: 2.0, &quot;IP_PT&quot;: 59.26, &quot;LABEL&quot;: &quot;0&quot;, &quot;LOCATION&quot;: 0.0, &quot;LOS_MAX&quot;: 5.0, &quot;LOS_WAVG&quot;: 4, &quot;N&quot;: 2210.0, &quot;PM_PT&quot;: 42.35, &quot;PT_BIN&quot;: 3, &quot;SECTOR&quot;: 0.0, &quot;X&quot;: 1875356.0, &quot;Y&quot;: 5819146.0, &quot;id&quot;: 3219.0, &quot;index&quot;: 77, &quot;rank&quot;: 33}, &quot;type&quot;: &quot;Feature&quot;}], &quot;type&quot;: &quot;FeatureCollection&quot;});\n",
       "\n",
       "        \n",
       "    \n",
       "    geo_json_b4fd2e861595c451995371a767d368f8.bindTooltip(\n",
       "    function(layer){\n",
       "    let div = L.DomUtil.create(&#x27;div&#x27;);\n",
       "    \n",
       "    let handleObject = feature=&gt;typeof(feature)==&#x27;object&#x27; ? JSON.stringify(feature) : feature;\n",
       "    let fields = [&quot;index&quot;, &quot;ADT_PT&quot;, &quot;AM_PT&quot;, &quot;IP_PT&quot;, &quot;PM_PT&quot;, &quot;PT_BIN&quot;, &quot;DELAY_WAVG&quot;, &quot;LOS_WAVG&quot;, &quot;LABEL&quot;, &quot;rank&quot;, &quot;ADT_PUBLIC&quot;, &quot;id&quot;, &quot;N&quot;, &quot;DELAY_MAX&quot;, &quot;LOS_MAX&quot;, &quot;SECTOR&quot;, &quot;X&quot;, &quot;Y&quot;, &quot;LOCATION&quot;, &quot;FAREZONE&quot;];\n",
       "    let aliases = [&quot;index&quot;, &quot;ADT_PT&quot;, &quot;AM_PT&quot;, &quot;IP_PT&quot;, &quot;PM_PT&quot;, &quot;PT_BIN&quot;, &quot;DELAY_WAVG&quot;, &quot;LOS_WAVG&quot;, &quot;LABEL&quot;, &quot;rank&quot;, &quot;ADT_PUBLIC&quot;, &quot;id&quot;, &quot;N&quot;, &quot;DELAY_MAX&quot;, &quot;LOS_MAX&quot;, &quot;SECTOR&quot;, &quot;X&quot;, &quot;Y&quot;, &quot;LOCATION&quot;, &quot;FAREZONE&quot;];\n",
       "    let table = &#x27;&lt;table&gt;&#x27; +\n",
       "        String(\n",
       "        fields.map(\n",
       "        (v,i)=&gt;\n",
       "        `&lt;tr&gt;\n",
       "            &lt;th&gt;${aliases[i]}&lt;/th&gt;\n",
       "            \n",
       "            &lt;td&gt;${handleObject(layer.feature.properties[v])}&lt;/td&gt;\n",
       "        &lt;/tr&gt;`).join(&#x27;&#x27;))\n",
       "    +&#x27;&lt;/table&gt;&#x27;;\n",
       "    div.innerHTML=table;\n",
       "    \n",
       "    return div\n",
       "    }\n",
       "    ,{&quot;className&quot;: &quot;foliumtooltip&quot;, &quot;sticky&quot;: true});\n",
       "                     \n",
       "&lt;/script&gt;\n",
       "&lt;/html&gt;\" style=\"position:absolute;width:100%;height:100%;left:0;top:0;border:none !important;\" allowfullscreen webkitallowfullscreen mozallowfullscreen></iframe></div></div>"
      ],
      "text/plain": [
       "<folium.folium.Map at 0x1c6edb9df50>"
      ]
     },
     "execution_count": 254,
     "metadata": {},
     "output_type": "execute_result"
    }
   ],
   "source": [
    "secondary_delay_locations.explore(tiles=\"CartoDB positron\",\n",
    "   \n",
    "    highlight=True,\n",
    "    name=\"Nodes\",\n",
    "    marker_type=\"circle_marker\",\n",
    "    marker_kwds={\n",
    "        \"radius\" : \"6\"},\n",
    "    legend_kwds= {\n",
    "        \"caption\" : \"Nodes by rank (higher is greater priority)\"\n",
    "    })"
   ]
  }
 ],
 "metadata": {
  "kernelspec": {
   "display_name": "Python 3 (ipykernel)",
   "language": "python",
   "name": "python3"
  },
  "language_info": {
   "codemirror_mode": {
    "name": "ipython",
    "version": 3
   },
   "file_extension": ".py",
   "mimetype": "text/x-python",
   "name": "python",
   "nbconvert_exporter": "python",
   "pygments_lexer": "ipython3",
   "version": "3.11.0"
  }
 },
 "nbformat": 4,
 "nbformat_minor": 5
}
