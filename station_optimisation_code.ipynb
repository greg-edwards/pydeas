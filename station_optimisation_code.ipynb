{
 "cells": [
  {
   "cell_type": "code",
   "execution_count": 1,
   "metadata": {},
   "outputs": [
    {
     "name": "stdout",
     "output_type": "stream",
     "text": [
      "Collecting routingpy\n",
      "  Obtaining dependency information for routingpy from https://files.pythonhosted.org/packages/ce/01/72f3ed477b8bbf0774c95e11c6eaabdc1ac7e9bf9417b1c9bc3741a126f9/routingpy-1.3.0-py3-none-any.whl.metadata\n",
      "  Downloading routingpy-1.3.0-py3-none-any.whl.metadata (15 kB)\n",
      "Requirement already satisfied: requests>=2.20.0 in c:\\users\\gse1\\.conda\\envs\\ox\\lib\\site-packages (from routingpy) (2.31.0)\n",
      "Requirement already satisfied: charset-normalizer<4,>=2 in c:\\users\\gse1\\.conda\\envs\\ox\\lib\\site-packages (from requests>=2.20.0->routingpy) (3.2.0)\n",
      "Requirement already satisfied: idna<4,>=2.5 in c:\\users\\gse1\\.conda\\envs\\ox\\lib\\site-packages (from requests>=2.20.0->routingpy) (2.10)\n",
      "Requirement already satisfied: urllib3<3,>=1.21.1 in c:\\users\\gse1\\.conda\\envs\\ox\\lib\\site-packages (from requests>=2.20.0->routingpy) (2.0.4)\n",
      "Requirement already satisfied: certifi>=2017.4.17 in c:\\users\\gse1\\.conda\\envs\\ox\\lib\\site-packages (from requests>=2.20.0->routingpy) (2023.7.22)\n",
      "Downloading routingpy-1.3.0-py3-none-any.whl (84 kB)\n",
      "   ---------------------------------------- 0.0/84.4 kB ? eta -:--:--\n",
      "   ---------------------------------------- 0.0/84.4 kB ? eta -:--:--\n",
      "   -------------- ------------------------- 30.7/84.4 kB 660.6 kB/s eta 0:00:01\n",
      "   -------------------------------------- - 81.9/84.4 kB 919.0 kB/s eta 0:00:01\n",
      "   ---------------------------------------- 84.4/84.4 kB 797.8 kB/s eta 0:00:00\n",
      "Installing collected packages: routingpy\n",
      "Successfully installed routingpy-1.3.0\n"
     ]
    }
   ],
   "source": [
    "import pandas as pd\n",
    "import geopandas as gpd\n",
    "import numpy\n",
    "import pulp\n",
    "import matplotlib.pyplot as plt\n",
    "import folium\n",
    "import spopt\n",
    "from spopt.locate import LSCP, PMedian\n",
    "import os\n",
    "\n",
    "try:\n",
    "    import routingpy\n",
    "except ImportError:\n",
    "    ! pip install routingpy\n",
    "    import routingpy\n",
    "\n",
    "from routingpy import OSRM, Google, MapboxOSRM\n",
    "\n",
    "import warnings\n",
    "with warnings.catch_warnings():\n",
    "     warnings.simplefilter(\"ignore\")\n",
    "\n",
    "# import shapely\n",
    "# from shapely.geometry import shape, Point\n",
    "# import json"
   ]
  },
  {
   "cell_type": "markdown",
   "metadata": {},
   "source": [
    "### Problem Formulation: \n",
    "Minimize Stations needed to cover all neighborhoods\n",
    "\n",
    "##### Decision Variables\n",
    "$Y_{j} \\in \\{0, 1 \\}$: this binary variable is equal to 1 if we build a station at candidate location $j \\in J$; and 0 otherwise.\n",
    "\n",
    "##### Objective Function\n",
    "\n",
    "\\begin{equation}\n",
    "\\text{Min} \\quad S = \\sum_{j \\in J}  Y_{j}\n",
    "\\tag{1}\n",
    "\\end{equation}\n",
    "\n",
    "$s.t.$\n",
    "\n",
    "\\begin{equation}\n",
    "\\sum_{j \\in N_i} Y_{j} \\geq 1 \\quad \\forall i \\in I\n",
    "\\tag{2}\n",
    "\\end{equation}\n",
    "\n",
    "\\begin{equation}\n",
    "Y_{j} \\in \\{0, 1 \\} \\quad \\forall j \\in J\n",
    "\\tag{3}\n",
    "\\end{equation}\n",
    "\n",
    "$where$\n",
    "\n",
    "$i \\in I$: index of neighborhood of interest (OA centroids)\n",
    "\n",
    "$j \\in J$: index of candidate station locations.\n",
    "\n",
    "$N_i = \\{j|d_{i,j} \\leq T \\}$: set of stations $j$ within a $S$ travel time of neighborhood $i$. Therefore, $N_{i} \\subseteq J \\quad \\forall i \\in I$, where:\n",
    "\n",
    "- $d_{i,j}$: shortest travel time between neighborhood i and candidate station j (input parameter)\n",
    "\n",
    "- $T \\in \\mathbb{Z+}$: maximum time needed to reach a station (input parameter)\n",
    "\n"
   ]
  },
  {
   "cell_type": "markdown",
   "metadata": {},
   "source": [
    "#### Define all neighborhoods (OA centroids)"
   ]
  },
  {
   "cell_type": "code",
   "execution_count": 2,
   "metadata": {},
   "outputs": [
    {
     "ename": "DriverError",
     "evalue": "data\\oa.geojson: No such file or directory",
     "output_type": "error",
     "traceback": [
      "\u001b[1;31m---------------------------------------------------------------------------\u001b[0m",
      "\u001b[1;31mCPLE_OpenFailedError\u001b[0m                      Traceback (most recent call last)",
      "File \u001b[1;32mfiona\\ogrext.pyx:136\u001b[0m, in \u001b[0;36mfiona.ogrext.gdal_open_vector\u001b[1;34m()\u001b[0m\n",
      "File \u001b[1;32mfiona\\_err.pyx:291\u001b[0m, in \u001b[0;36mfiona._err.exc_wrap_pointer\u001b[1;34m()\u001b[0m\n",
      "\u001b[1;31mCPLE_OpenFailedError\u001b[0m: data\\oa.geojson: No such file or directory",
      "\nDuring handling of the above exception, another exception occurred:\n",
      "\u001b[1;31mDriverError\u001b[0m                               Traceback (most recent call last)",
      "Cell \u001b[1;32mIn[2], line 2\u001b[0m\n\u001b[0;32m      1\u001b[0m \u001b[38;5;66;03m# Load geojson file with geopandas:\u001b[39;00m\n\u001b[1;32m----> 2\u001b[0m oa \u001b[38;5;241m=\u001b[39m \u001b[43mgpd\u001b[49m\u001b[38;5;241;43m.\u001b[39;49m\u001b[43mread_file\u001b[49m\u001b[43m(\u001b[49m\u001b[43mos\u001b[49m\u001b[38;5;241;43m.\u001b[39;49m\u001b[43mpath\u001b[49m\u001b[38;5;241;43m.\u001b[39;49m\u001b[43mjoin\u001b[49m\u001b[43m(\u001b[49m\u001b[38;5;124;43m'\u001b[39;49m\u001b[38;5;124;43mdata\u001b[39;49m\u001b[38;5;124;43m'\u001b[39;49m\u001b[43m,\u001b[49m\u001b[38;5;124;43m'\u001b[39;49m\u001b[38;5;124;43moa.geojson\u001b[39;49m\u001b[38;5;124;43m'\u001b[39;49m\u001b[43m)\u001b[49m\u001b[43m,\u001b[49m\u001b[43m \u001b[49m\u001b[43mdriver\u001b[49m\u001b[38;5;241;43m=\u001b[39;49m\u001b[38;5;124;43m'\u001b[39;49m\u001b[38;5;124;43mGeoJSON\u001b[39;49m\u001b[38;5;124;43m'\u001b[39;49m\u001b[43m)\u001b[49m\n\u001b[0;32m      3\u001b[0m \u001b[38;5;28mprint\u001b[39m(oa\u001b[38;5;241m.\u001b[39mcrs)\n",
      "File \u001b[1;32m~\\.conda\\envs\\ox\\Lib\\site-packages\\geopandas\\io\\file.py:259\u001b[0m, in \u001b[0;36m_read_file\u001b[1;34m(filename, bbox, mask, rows, engine, **kwargs)\u001b[0m\n\u001b[0;32m    256\u001b[0m     path_or_bytes \u001b[38;5;241m=\u001b[39m filename\n\u001b[0;32m    258\u001b[0m \u001b[38;5;28;01mif\u001b[39;00m engine \u001b[38;5;241m==\u001b[39m \u001b[38;5;124m\"\u001b[39m\u001b[38;5;124mfiona\u001b[39m\u001b[38;5;124m\"\u001b[39m:\n\u001b[1;32m--> 259\u001b[0m     \u001b[38;5;28;01mreturn\u001b[39;00m \u001b[43m_read_file_fiona\u001b[49m\u001b[43m(\u001b[49m\n\u001b[0;32m    260\u001b[0m \u001b[43m        \u001b[49m\u001b[43mpath_or_bytes\u001b[49m\u001b[43m,\u001b[49m\u001b[43m \u001b[49m\u001b[43mfrom_bytes\u001b[49m\u001b[43m,\u001b[49m\u001b[43m \u001b[49m\u001b[43mbbox\u001b[49m\u001b[38;5;241;43m=\u001b[39;49m\u001b[43mbbox\u001b[49m\u001b[43m,\u001b[49m\u001b[43m \u001b[49m\u001b[43mmask\u001b[49m\u001b[38;5;241;43m=\u001b[39;49m\u001b[43mmask\u001b[49m\u001b[43m,\u001b[49m\u001b[43m \u001b[49m\u001b[43mrows\u001b[49m\u001b[38;5;241;43m=\u001b[39;49m\u001b[43mrows\u001b[49m\u001b[43m,\u001b[49m\u001b[43m \u001b[49m\u001b[38;5;241;43m*\u001b[39;49m\u001b[38;5;241;43m*\u001b[39;49m\u001b[43mkwargs\u001b[49m\n\u001b[0;32m    261\u001b[0m \u001b[43m    \u001b[49m\u001b[43m)\u001b[49m\n\u001b[0;32m    262\u001b[0m \u001b[38;5;28;01melif\u001b[39;00m engine \u001b[38;5;241m==\u001b[39m \u001b[38;5;124m\"\u001b[39m\u001b[38;5;124mpyogrio\u001b[39m\u001b[38;5;124m\"\u001b[39m:\n\u001b[0;32m    263\u001b[0m     \u001b[38;5;28;01mreturn\u001b[39;00m _read_file_pyogrio(\n\u001b[0;32m    264\u001b[0m         path_or_bytes, bbox\u001b[38;5;241m=\u001b[39mbbox, mask\u001b[38;5;241m=\u001b[39mmask, rows\u001b[38;5;241m=\u001b[39mrows, \u001b[38;5;241m*\u001b[39m\u001b[38;5;241m*\u001b[39mkwargs\n\u001b[0;32m    265\u001b[0m     )\n",
      "File \u001b[1;32m~\\.conda\\envs\\ox\\Lib\\site-packages\\geopandas\\io\\file.py:303\u001b[0m, in \u001b[0;36m_read_file_fiona\u001b[1;34m(path_or_bytes, from_bytes, bbox, mask, rows, where, **kwargs)\u001b[0m\n\u001b[0;32m    300\u001b[0m     reader \u001b[38;5;241m=\u001b[39m fiona\u001b[38;5;241m.\u001b[39mopen\n\u001b[0;32m    302\u001b[0m \u001b[38;5;28;01mwith\u001b[39;00m fiona_env():\n\u001b[1;32m--> 303\u001b[0m     \u001b[38;5;28;01mwith\u001b[39;00m \u001b[43mreader\u001b[49m\u001b[43m(\u001b[49m\u001b[43mpath_or_bytes\u001b[49m\u001b[43m,\u001b[49m\u001b[43m \u001b[49m\u001b[38;5;241;43m*\u001b[39;49m\u001b[38;5;241;43m*\u001b[39;49m\u001b[43mkwargs\u001b[49m\u001b[43m)\u001b[49m \u001b[38;5;28;01mas\u001b[39;00m features:\n\u001b[0;32m    304\u001b[0m         crs \u001b[38;5;241m=\u001b[39m features\u001b[38;5;241m.\u001b[39mcrs_wkt\n\u001b[0;32m    305\u001b[0m         \u001b[38;5;66;03m# attempt to get EPSG code\u001b[39;00m\n",
      "File \u001b[1;32m~\\.conda\\envs\\ox\\Lib\\site-packages\\fiona\\env.py:457\u001b[0m, in \u001b[0;36mensure_env_with_credentials.<locals>.wrapper\u001b[1;34m(*args, **kwds)\u001b[0m\n\u001b[0;32m    454\u001b[0m     session \u001b[38;5;241m=\u001b[39m DummySession()\n\u001b[0;32m    456\u001b[0m \u001b[38;5;28;01mwith\u001b[39;00m env_ctor(session\u001b[38;5;241m=\u001b[39msession):\n\u001b[1;32m--> 457\u001b[0m     \u001b[38;5;28;01mreturn\u001b[39;00m \u001b[43mf\u001b[49m\u001b[43m(\u001b[49m\u001b[38;5;241;43m*\u001b[39;49m\u001b[43margs\u001b[49m\u001b[43m,\u001b[49m\u001b[43m \u001b[49m\u001b[38;5;241;43m*\u001b[39;49m\u001b[38;5;241;43m*\u001b[39;49m\u001b[43mkwds\u001b[49m\u001b[43m)\u001b[49m\n",
      "File \u001b[1;32m~\\.conda\\envs\\ox\\Lib\\site-packages\\fiona\\__init__.py:336\u001b[0m, in \u001b[0;36mopen\u001b[1;34m(fp, mode, driver, schema, crs, encoding, layer, vfs, enabled_drivers, crs_wkt, allow_unsupported_drivers, **kwargs)\u001b[0m\n\u001b[0;32m    333\u001b[0m     path \u001b[38;5;241m=\u001b[39m parse_path(fp)\n\u001b[0;32m    335\u001b[0m \u001b[38;5;28;01mif\u001b[39;00m mode \u001b[38;5;129;01min\u001b[39;00m (\u001b[38;5;124m\"\u001b[39m\u001b[38;5;124ma\u001b[39m\u001b[38;5;124m\"\u001b[39m, \u001b[38;5;124m\"\u001b[39m\u001b[38;5;124mr\u001b[39m\u001b[38;5;124m\"\u001b[39m):\n\u001b[1;32m--> 336\u001b[0m     colxn \u001b[38;5;241m=\u001b[39m \u001b[43mCollection\u001b[49m\u001b[43m(\u001b[49m\n\u001b[0;32m    337\u001b[0m \u001b[43m        \u001b[49m\u001b[43mpath\u001b[49m\u001b[43m,\u001b[49m\n\u001b[0;32m    338\u001b[0m \u001b[43m        \u001b[49m\u001b[43mmode\u001b[49m\u001b[43m,\u001b[49m\n\u001b[0;32m    339\u001b[0m \u001b[43m        \u001b[49m\u001b[43mdriver\u001b[49m\u001b[38;5;241;43m=\u001b[39;49m\u001b[43mdriver\u001b[49m\u001b[43m,\u001b[49m\n\u001b[0;32m    340\u001b[0m \u001b[43m        \u001b[49m\u001b[43mencoding\u001b[49m\u001b[38;5;241;43m=\u001b[39;49m\u001b[43mencoding\u001b[49m\u001b[43m,\u001b[49m\n\u001b[0;32m    341\u001b[0m \u001b[43m        \u001b[49m\u001b[43mlayer\u001b[49m\u001b[38;5;241;43m=\u001b[39;49m\u001b[43mlayer\u001b[49m\u001b[43m,\u001b[49m\n\u001b[0;32m    342\u001b[0m \u001b[43m        \u001b[49m\u001b[43menabled_drivers\u001b[49m\u001b[38;5;241;43m=\u001b[39;49m\u001b[43menabled_drivers\u001b[49m\u001b[43m,\u001b[49m\n\u001b[0;32m    343\u001b[0m \u001b[43m        \u001b[49m\u001b[43mallow_unsupported_drivers\u001b[49m\u001b[38;5;241;43m=\u001b[39;49m\u001b[43mallow_unsupported_drivers\u001b[49m\u001b[43m,\u001b[49m\n\u001b[0;32m    344\u001b[0m \u001b[43m        \u001b[49m\u001b[38;5;241;43m*\u001b[39;49m\u001b[38;5;241;43m*\u001b[39;49m\u001b[43mkwargs\u001b[49m\n\u001b[0;32m    345\u001b[0m \u001b[43m    \u001b[49m\u001b[43m)\u001b[49m\n\u001b[0;32m    346\u001b[0m \u001b[38;5;28;01melif\u001b[39;00m mode \u001b[38;5;241m==\u001b[39m \u001b[38;5;124m\"\u001b[39m\u001b[38;5;124mw\u001b[39m\u001b[38;5;124m\"\u001b[39m:\n\u001b[0;32m    347\u001b[0m     colxn \u001b[38;5;241m=\u001b[39m Collection(\n\u001b[0;32m    348\u001b[0m         path,\n\u001b[0;32m    349\u001b[0m         mode,\n\u001b[1;32m   (...)\u001b[0m\n\u001b[0;32m    358\u001b[0m         \u001b[38;5;241m*\u001b[39m\u001b[38;5;241m*\u001b[39mkwargs\n\u001b[0;32m    359\u001b[0m     )\n",
      "File \u001b[1;32m~\\.conda\\envs\\ox\\Lib\\site-packages\\fiona\\collection.py:234\u001b[0m, in \u001b[0;36mCollection.__init__\u001b[1;34m(self, path, mode, driver, schema, crs, encoding, layer, vsi, archive, enabled_drivers, crs_wkt, ignore_fields, ignore_geometry, include_fields, wkt_version, allow_unsupported_drivers, **kwargs)\u001b[0m\n\u001b[0;32m    232\u001b[0m \u001b[38;5;28;01mif\u001b[39;00m \u001b[38;5;28mself\u001b[39m\u001b[38;5;241m.\u001b[39mmode \u001b[38;5;241m==\u001b[39m \u001b[38;5;124m\"\u001b[39m\u001b[38;5;124mr\u001b[39m\u001b[38;5;124m\"\u001b[39m:\n\u001b[0;32m    233\u001b[0m     \u001b[38;5;28mself\u001b[39m\u001b[38;5;241m.\u001b[39msession \u001b[38;5;241m=\u001b[39m Session()\n\u001b[1;32m--> 234\u001b[0m     \u001b[38;5;28;43mself\u001b[39;49m\u001b[38;5;241;43m.\u001b[39;49m\u001b[43msession\u001b[49m\u001b[38;5;241;43m.\u001b[39;49m\u001b[43mstart\u001b[49m\u001b[43m(\u001b[49m\u001b[38;5;28;43mself\u001b[39;49m\u001b[43m,\u001b[49m\u001b[43m \u001b[49m\u001b[38;5;241;43m*\u001b[39;49m\u001b[38;5;241;43m*\u001b[39;49m\u001b[43mkwargs\u001b[49m\u001b[43m)\u001b[49m\n\u001b[0;32m    235\u001b[0m \u001b[38;5;28;01melif\u001b[39;00m \u001b[38;5;28mself\u001b[39m\u001b[38;5;241m.\u001b[39mmode \u001b[38;5;129;01min\u001b[39;00m (\u001b[38;5;124m\"\u001b[39m\u001b[38;5;124ma\u001b[39m\u001b[38;5;124m\"\u001b[39m, \u001b[38;5;124m\"\u001b[39m\u001b[38;5;124mw\u001b[39m\u001b[38;5;124m\"\u001b[39m):\n\u001b[0;32m    236\u001b[0m     \u001b[38;5;28mself\u001b[39m\u001b[38;5;241m.\u001b[39msession \u001b[38;5;241m=\u001b[39m WritingSession()\n",
      "File \u001b[1;32mfiona\\ogrext.pyx:587\u001b[0m, in \u001b[0;36mfiona.ogrext.Session.start\u001b[1;34m()\u001b[0m\n",
      "File \u001b[1;32mfiona\\ogrext.pyx:143\u001b[0m, in \u001b[0;36mfiona.ogrext.gdal_open_vector\u001b[1;34m()\u001b[0m\n",
      "\u001b[1;31mDriverError\u001b[0m: data\\oa.geojson: No such file or directory"
     ]
    }
   ],
   "source": [
    "# Load geojson file with geopandas:\n",
    "oa = gpd.read_file(os.path.join('data','oa.geojson'), driver='GeoJSON')\n",
    "print(oa.crs)"
   ]
  },
  {
   "cell_type": "markdown",
   "metadata": {},
   "source": [
    "#### Define all candidate stations locations"
   ]
  },
  {
   "cell_type": "code",
   "execution_count": null,
   "metadata": {},
   "outputs": [],
   "source": [
    "# Load geojson file with geopandas:\n",
    "candidates = gpd.read_file(os.path.join('data','candidates.geojson'), driver='GeoJSON')\n",
    "print(candidates.crs)"
   ]
  },
  {
   "cell_type": "code",
   "execution_count": null,
   "metadata": {},
   "outputs": [],
   "source": [
    "# Set predefined locations:\n",
    "candidates[\"predefined_loc\"] = 0\n",
    "candidates.loc[(0,20,30), \"predefined_loc\"] = 1\n",
    "candidates"
   ]
  },
  {
   "cell_type": "code",
   "execution_count": null,
   "metadata": {},
   "outputs": [],
   "source": [
    "m = folium.Map(location=[51.48, -0.05], zoom_start=13,tiles=\"cartodbdark_matter\")\n",
    "\n",
    "# Map candidates centroids\n",
    "cand_fg = folium.FeatureGroup(\"Candidates\").add_to(m)\n",
    "corridor_fg = folium.FeatureGroup(\"Corridor\").add_to(m)\n",
    "cand = []\n",
    "cand_loc = []\n",
    "\n",
    "for i, row in candidates.iterrows():\n",
    "    folium.CircleMarker(\n",
    "        location=[row[\"geometry\"].y, row[\"geometry\"].x],\n",
    "        radius=3,\n",
    "        fill=True,\n",
    "        fill_opacity=0.3,\n",
    "        popup=folium.Popup(f'Stop #{row[\"fid\"]}'),\n",
    "        color=\"red\"\n",
    "    ).add_to(cand_fg)\n",
    "    cand.append({\"name\": f'Stop #{row[\"fid\"]}', \"idx\": i})\n",
    "    cand_loc.append([row[\"geometry\"].y, row[\"geometry\"].x])\n",
    "\n",
    "# Draw a line connecting the candidates with a for loop\n",
    "folium.PolyLine(\n",
    "    locations=cand_loc,\n",
    "    color=\"red\", \n",
    "    weight=2\n",
    "    ).add_to(corridor_fg)\n",
    "\n",
    "# Map neighbourhoods (OA centroids)\n",
    "nbh_fg = folium.FeatureGroup(\"Neighbourhood (OA)\").add_to(m)\n",
    "nbh = []\n",
    "nbh_loc = []\n",
    "\n",
    "for i, row in oa.iterrows():\n",
    "    folium.CircleMarker(\n",
    "        location=[row[\"geometry\"].y, row[\"geometry\"].x],\n",
    "        radius=0.01,\n",
    "        # No line\n",
    "        linecolor=None,\n",
    "        fill=False,\n",
    "        fill_opacity=0.1,\n",
    "        popup=folium.Popup(f'{row[\"code\"]}\\nPop: {row[\"population\"]:.0f}\\n {row[\"oac_supe_1\"]}'),\n",
    "        color=\"white\"\n",
    "    ).add_to(nbh_fg)\n",
    "    nbh.append({\"name\": row[\"code\"], \"idx\": i})\n",
    "    nbh_loc.append([row[\"geometry\"].y, row[\"geometry\"].x])\n",
    "\n",
    "m.add_child(folium.LayerControl(position=\"topleft\"))\n",
    "\n",
    "m"
   ]
  },
  {
   "cell_type": "markdown",
   "metadata": {},
   "source": [
    "#### Computing the Distance (Routing) Matrix"
   ]
  },
  {
   "cell_type": "code",
   "execution_count": null,
   "metadata": {},
   "outputs": [],
   "source": [
    "# Create a client for OSRM service\n",
    "client = OSRM(base_url=\"http://routing.openstreetmap.de/routed-foot/\")\n"
   ]
  },
  {
   "cell_type": "code",
   "execution_count": null,
   "metadata": {},
   "outputs": [],
   "source": [
    "# Split source indices into chunks of 150\n",
    "source_indices = [i[\"idx\"] for i in nbh]\n",
    "chunks = [source_indices[i:i + 150] for i in range(0, len(source_indices), 150)]"
   ]
  },
  {
   "cell_type": "code",
   "execution_count": null,
   "metadata": {},
   "outputs": [],
   "source": [
    "time_matrix_set = []\n",
    "for idx, chunk in enumerate(chunks):\n",
    "    all_locations = nbh_loc[chunk[0]:chunk[-1]+1] + cand_loc\n",
    "    all_locations = [[x, y] for y, x in all_locations]\n",
    "    target_indices = [i for i in range(len(all_locations)-len(chunk))]\n",
    "    # Get travel time matrix\n",
    "    osrm_routing_matrix = client.matrix(\n",
    "        dry_run=False,\n",
    "        locations=all_locations,\n",
    "        #source is a list from 0 to 149\n",
    "        sources=[i for i in range(len(chunk))],\n",
    "        destinations=target_indices,\n",
    "        )\n",
    "    duration = numpy.array(osrm_routing_matrix.durations)\n",
    "    print(f'Matrix {idx+1}/{len(chunks)} has a dimension of {duration.shape}')\n",
    "    time_matrix_set.append(duration)"
   ]
  },
  {
   "cell_type": "code",
   "execution_count": null,
   "metadata": {},
   "outputs": [],
   "source": [
    "# Merge all time matrices in time_matrix_set into one\n",
    "time_matrix = numpy.concatenate(time_matrix_set, axis=0)\n",
    "print(f'Final matrix has a dimension of {time_matrix.shape}')\n",
    "time_matrix"
   ]
  },
  {
   "cell_type": "markdown",
   "metadata": {},
   "source": [
    "#### Solving the LSCP"
   ]
  },
  {
   "cell_type": "code",
   "execution_count": null,
   "metadata": {},
   "outputs": [],
   "source": [
    "# Iterate t from 600 to 3000\n",
    "cols= [\"service_radius\", \"num_stations\"]\n",
    "solution_list = []\n",
    "solver = pulp.COIN_CMD(msg=False)\n",
    "\n",
    "for t in range(600, 3000, 10):\n",
    "    # Create and solve an LSCP instance\n",
    "    lscp = LSCP.from_cost_matrix(\n",
    "        time_matrix,\n",
    "        t,\n",
    "        predefined_facilities_arr=numpy.array(candidates[\"predefined_loc\"])\n",
    "        )\n",
    "    try:\n",
    "        lscp = lscp.solve(solver)\n",
    "        solution_list.append([t, lscp.problem.objective.value()])\n",
    "    except:\n",
    "        pass    "
   ]
  },
  {
   "cell_type": "code",
   "execution_count": null,
   "metadata": {},
   "outputs": [],
   "source": [
    "# Write into datafram and record Step change in the number of stations\n",
    "solution_df = pd.DataFrame(solution_list, columns=cols)\n",
    "solution_df[\"step_change\"] = solution_df[\"num_stations\"].diff().fillna(0).abs()\n",
    "solution_df.loc[0, \"step_change\"] = 1\n",
    "solution_df.tail()"
   ]
  },
  {
   "cell_type": "code",
   "execution_count": null,
   "metadata": {},
   "outputs": [],
   "source": [
    "# Plot the number of stations needed vs. max walking distance\n",
    "ax = solution_df.plot(x=\"service_radius\", y=\"num_stations\", figsize=(5, 4))\n",
    "ax.set_ylabel(\"Number of stations\\n(Objective function value)\")\n",
    "ax.set_xlabel(\"Max travel time on foot to station (seconds)\\n(Variable input parameter)\")\n",
    "ax.set_title(\"Number of stations needed vs. max travel time on foot\")\n",
    "ax.legend().set_visible(False)\n",
    "ax.set_yticks(range(0,7, 1)) # Set y axis ticks to be integers\n",
    "ax.set_ylim(2, 7) # Set y axis range\n",
    "ax.set_xlim(1500, 3000) # Set x axis range\n",
    "\n",
    "# # Add vertical line where step change occurs\n",
    "for idx, row in solution_df.iterrows():\n",
    "    if row[\"step_change\"] != 0:\n",
    "        ax.axvline(x=row[\"service_radius\"], color=\"red\", linestyle=\"--\", linewidth=0.5)\n",
    "        ax.text(\n",
    "            x=row[\"service_radius\"]+50,\n",
    "            y=row[\"num_stations\"]-0.2,\n",
    "            s=f'{row[\"service_radius\"]:.0f}',\n",
    "            color=\"red\",\n",
    "            fontsize=8\n",
    "        )\n",
    "\n",
    "# Add shaded area outside of x = 3 and x= 7\n",
    "ax.axhspan(2, 3, alpha=0.2, color='grey')\n",
    "ax.axvspan(1500, 1800, alpha=0.2, color='grey') \n",
    "\n",
    "# Add text to explain shaded area\n",
    "ax.text(x=2200, y=2.5, s=\"Lower bound\\n(S-min=3)\", fontsize=7, color=\"grey\")\n",
    "ax.text(x=1600, y=5, s=\"Infeasible\", fontsize=7, color=\"grey\")"
   ]
  },
  {
   "cell_type": "code",
   "execution_count": null,
   "metadata": {},
   "outputs": [],
   "source": [
    "# Rerun the model with t = 1830 seconds\n",
    "\n",
    "t = 1830 # 30.5 minutes\n",
    "solver = pulp.COIN_CMD(msg=False)\n",
    "lscp = LSCP.from_cost_matrix(\n",
    "        time_matrix,\n",
    "        t,\n",
    "        predefined_facilities_arr=numpy.array(candidates[\"predefined_loc\"]),\n",
    "        name=\"LSCP-min-station\"\n",
    "        )\n",
    "lscp = lscp.solve(solver)\n",
    "print(f'With a max walking distance of {t} seconds ({t/60:.1f} minutes), {lscp.problem.objective.value():.0f} stations are needed.')"
   ]
  },
  {
   "cell_type": "code",
   "execution_count": null,
   "metadata": {},
   "outputs": [],
   "source": [
    "# # Add to the map\n",
    "# m = folium.Map(location=[51.48, -0.05], zoom_start=13,tiles=\"cartodbdark_matter\")\n",
    "# chosen_stations_fg = folium.FeatureGroup(\"Chosen Stations (Min Stations)\").add_to(m)\n",
    "# # allocated_demand_fg = folium.FeatureGroup(\"Allocated\").add_to(m)\n",
    "# solution = {}\n",
    "# client_marker_size = 10\n",
    "# numpy.random.seed(0)\n",
    "# for i in range(len(candidates)):\n",
    "#     if lscp.fac2cli[i]:\n",
    "#         color = \"gold\"\n",
    "#         # client locations with associated facility symbology\n",
    "#         solution[i] = []\n",
    "#         for j in lscp.fac2cli[i]:\n",
    "#             solution[i].append(nbh[j])\n",
    "        \n",
    "#         # selected candidate facility sites\n",
    "#         folium.CircleMarker(\n",
    "#             location=cand_loc[i],\n",
    "#             radius=client_marker_size,\n",
    "#             fill=True,\n",
    "#             popup=folium.Popup(f\"Chosen Station #{i+1}\", show=False),\n",
    "#             color=color,\n",
    "#         ).add_to(chosen_stations_fg)\n",
    "\n",
    "# m.add_child(cand_fg)\n",
    "# m.add_child(corridor_fg)\n",
    "# m.add_child(nbh_fg)        \n",
    "# m.add_child(folium.LayerControl(position=\"topleft\"))\n",
    "# m"
   ]
  },
  {
   "cell_type": "code",
   "execution_count": null,
   "metadata": {},
   "outputs": [],
   "source": [
    "# Create a new column in the dataframe candidate to store the index of the selected candidate\n",
    "candidates[\"selected_min_station\"] = 0\n",
    "for i in range(len(candidates)):\n",
    "    if lscp.fac2cli[i]:\n",
    "        candidates.loc[i, \"selected_min_station\"] = 1"
   ]
  },
  {
   "cell_type": "markdown",
   "metadata": {},
   "source": [
    "### Problem Formulation: \n",
    "Minimize weighted travel time on foot to station for all neighborhoods\n",
    "\n",
    "##### Decision Variable\n",
    "\n",
    "$X_{i,j} \\in \\{0, 1 \\}$: This variable is equal to 1 if we assign neighborhood $i \\in I$ to station $j \\in J$; and 0 otherwise.\n",
    "\n",
    "$Y_{j} \\in \\{0, 1 \\}$: This variable is equal to 1 if we build a station at candidate location $j \\in J$; and 0 otherwise.\n",
    "\n",
    "##### Objective Function\n",
    " \n",
    "We want to minimize the total amount of travel time on foot to the nearest station for all neighborhoods.\n",
    "\n",
    "\\begin{equation}\n",
    "\\text{Min} \\quad S = \\sum_{i \\in I}\\sum_{j \\in J}  a_{i}d_{i,j}X_{i,j}\n",
    "\\tag{4}\n",
    "\\end{equation}\n",
    "\n",
    "$s.t.$\n",
    "\n",
    "\\begin{equation}\n",
    "\\sum_{j \\in J} Y_{j} \\leq k \\quad \n",
    "\\tag{5}\n",
    "\\end{equation}\n",
    "\n",
    "\\begin{equation}\n",
    "\\sum_{j \\in J} X_{i,j} = 1 \\quad \\forall i \\in I\n",
    "\\tag{6}\n",
    "\\end{equation}\n",
    "\n",
    "\\begin{equation}\n",
    "X_{i,j} \\leq Y_{j} \\quad \\forall i \\in I \\quad \\forall j \\in J\n",
    "\\tag{7}\n",
    "\\end{equation}\n",
    "\n",
    "\\begin{equation}\n",
    "X_{i,j} \\in \\{0, 1 \\} \\quad \\forall i \\in I \\quad \\forall j \\in J\n",
    "\\tag{8}\n",
    "\\end{equation}\n",
    "\n",
    "\\begin{equation}\n",
    "Y_{j} \\in \\{0, 1 \\} \\quad \\forall j \\in J\n",
    "\\tag{9}\n",
    "\\end{equation}\n",
    "\n",
    "$where$\n",
    "\n",
    "$i \\in I$: index of neighborhood of interest (OA centroids)\n",
    "\n",
    "$j \\in J$: index of candidate station locations.\n",
    "\n",
    "$d_{i,j}$: shortest travel time between neighborhood i and candidate station j (input parameter)\n",
    "\n",
    "$a_{i}$: population at $i$ (input parameter)\n",
    "\n",
    "$k$: number of stations to be located (input parameter)"
   ]
  },
  {
   "cell_type": "code",
   "execution_count": null,
   "metadata": {},
   "outputs": [],
   "source": [
    "# Population in each OA\n",
    "ai = numpy.array(oa[\"population\"])"
   ]
  },
  {
   "cell_type": "code",
   "execution_count": null,
   "metadata": {},
   "outputs": [],
   "source": [
    "# Create a loop varying k from 1 to 10 and run the model\n",
    "cols1= [\"k\", \"obj\", \"mean_dist\"]\n",
    "solution_list1 = []\n",
    "solver = pulp.COIN_CMD(msg=False)\n",
    "\n",
    "for k in range(1, 32):\n",
    "    # Create and solve an instance\n",
    "    pmedian_from_cm = PMedian.from_cost_matrix(\n",
    "        time_matrix,\n",
    "        ai,\n",
    "        p_facilities=k,\n",
    "        predefined_facilities_arr=numpy.array(candidates[\"predefined_loc\"]),\n",
    "        name=\"p-median-min-time\"\n",
    ")\n",
    "    try:\n",
    "        pmedian_from_cm = pmedian_from_cm.solve(solver)\n",
    "        solution_list1.append([k, pmedian_from_cm.problem.objective.value(), pmedian_from_cm.mean_dist])\n",
    "    except:\n",
    "        pass"
   ]
  },
  {
   "cell_type": "code",
   "execution_count": null,
   "metadata": {},
   "outputs": [],
   "source": [
    "solution_df1 = pd.DataFrame(solution_list1, columns=cols1)\n",
    "solution_df1.head(20)"
   ]
  },
  {
   "cell_type": "code",
   "execution_count": null,
   "metadata": {},
   "outputs": [],
   "source": [
    "# Plot the number of stations needed vs. max walking distance\n",
    "ax = solution_df1.plot(x=\"k\", y=\"mean_dist\", figsize=(8, 4))\n",
    "ax.set_xlabel(\"Number of stations\\n(Variable input parameter)\")\n",
    "ax.set_ylabel(\"Average travel time on foot to station (seconds)\\n(Objective function value's derivative)\")\n",
    "ax.set_title(\"Number of stations needed vs. minimized average travel time on foot\")\n",
    "ax.legend().set_visible(False)\n",
    "ax.set_xticks(range(1,35, 1)) # Set x axis ticks to be integers\n",
    "ax.set_xlim(0, 35)\n",
    "\n",
    "# Locate the knee point\n",
    "from kneed import KneeLocator\n",
    "kn = KneeLocator(solution_df1[\"k\"], solution_df1[\"mean_dist\"], curve=\"convex\", direction=\"decreasing\")\n",
    "ax.axvline(x=kn.knee-1, color=\"red\", linestyle=\"--\", linewidth=0.5)\n",
    "\n",
    "# Shade the area outside the range of x = 3 and 31\n",
    "ax.axvspan(0, 3, alpha=0.2, color='grey')\n",
    "ax.axvspan(31, 35, alpha=0.2, color='grey')\n",
    "\n",
    "# Add text to explain shaded area\n",
    "ax.text(x=0.5, y=500, s=\"Lower\\nbound\\n(k-min=3)\", fontsize=7, color=\"grey\")\n",
    "ax.text(x=31.5, y=500, s=\"Upper\\nbound\\n(k-max=31)\", fontsize=7, color=\"grey\")"
   ]
  },
  {
   "cell_type": "code",
   "execution_count": null,
   "metadata": {},
   "outputs": [],
   "source": [
    "# Rerun the model with k=8\n",
    "k = 7\n",
    "pmedian_from_cm = PMedian.from_cost_matrix(\n",
    "    time_matrix,\n",
    "    ai,\n",
    "    p_facilities=k,\n",
    "    predefined_facilities_arr=numpy.array(candidates[\"predefined_loc\"]),\n",
    "    name=\"p-median-min-time\"\n",
    ")\n",
    "\n",
    "# Solve the model using the GLPK\n",
    "solver = pulp.COIN_CMD(msg=False)\n",
    "pmedian_from_cm = pmedian_from_cm.solve(solver)\n",
    "\n",
    "pmp_obj = round(pmedian_from_cm.problem.objective.value(), 0)\n",
    "pmp_mean = round(pmedian_from_cm.mean_dist, 0)\n",
    "print(\n",
    "    f\"For an optimal solution, we see the total minimized weighted walking time of {pmp_obj} seconds, \"\n",
    "    f\"with an average walking time of {pmp_mean} seconds for each person.\"\n",
    ")"
   ]
  },
  {
   "cell_type": "code",
   "execution_count": null,
   "metadata": {},
   "outputs": [],
   "source": [
    "# Add to the map\n",
    "m = folium.Map(location=[51.48, -0.05], zoom_start=13,tiles=\"cartodbdark_matter\")\n",
    "chosen_stations_fg1 = folium.FeatureGroup(\"Chosen Stations (Min Time)\")\n",
    "solution_pmp = {}\n",
    "client_marker_size = 10\n",
    "numpy.random.seed(0)\n",
    "for i in range(len(candidates)):\n",
    "    if pmedian_from_cm.fac2cli[i]:\n",
    "        color = \"gold\"\n",
    "        # client locations with associated facility symbology\n",
    "        solution_pmp[i] = []\n",
    "        for j in pmedian_from_cm.fac2cli[i]:\n",
    "            solution_pmp[i].append(nbh[j])\n",
    "        \n",
    "        # selected candidate facility sites\n",
    "        folium.CircleMarker(\n",
    "            location=cand_loc[i],\n",
    "            radius=client_marker_size,\n",
    "            fill=True,\n",
    "            popup=folium.Popup(f\"Chosen Station #{i+1}\", show=False),\n",
    "            color=color,\n",
    "        ).add_to(chosen_stations_fg1)\n",
    "\n",
    "m.add_child(chosen_stations_fg1)\n",
    "m.add_child(cand_fg)\n",
    "m.add_child(corridor_fg)\n",
    "m.add_child(nbh_fg)   \n",
    "m.add_child(folium.LayerControl(position=\"topleft\"))\n",
    "m"
   ]
  },
  {
   "cell_type": "code",
   "execution_count": null,
   "metadata": {},
   "outputs": [],
   "source": [
    "# Write chosen candidate locations to dataframe candidates\n",
    "candidates[\"selected_min_time\"] = 0\n",
    "for i in range(len(candidates)):\n",
    "    if pmedian_from_cm.fac2cli[i]:\n",
    "        candidates.loc[i, \"selected_min_time\"] = 1\n",
    "candidates"
   ]
  },
  {
   "cell_type": "code",
   "execution_count": null,
   "metadata": {},
   "outputs": [],
   "source": [
    "# export to geojson\n",
    "candidates.to_file(os.path.join('data','chosen_candidates.geojson'), driver='GeoJSON')"
   ]
  }
 ],
 "metadata": {
  "kernelspec": {
   "display_name": "Python 3 (ipykernel)",
   "language": "python",
   "name": "python3"
  },
  "language_info": {
   "codemirror_mode": {
    "name": "ipython",
    "version": 3
   },
   "file_extension": ".py",
   "mimetype": "text/x-python",
   "name": "python",
   "nbconvert_exporter": "python",
   "pygments_lexer": "ipython3",
   "version": "3.11.5"
  }
 },
 "nbformat": 4,
 "nbformat_minor": 4
}
