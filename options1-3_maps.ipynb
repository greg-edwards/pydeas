{
 "cells": [
  {
   "cell_type": "code",
   "execution_count": 135,
   "id": "397f38c0-1643-454e-b4de-1b07278b74d3",
   "metadata": {},
   "outputs": [],
   "source": [
    "import pandas as pd\n",
    "import geopandas as gpd\n",
    "import numpy as np\n",
    "import folium\n",
    "import os"
   ]
  },
  {
   "cell_type": "code",
   "execution_count": 211,
   "id": "dcd6d0b6-df59-4044-ae57-363795934c58",
   "metadata": {},
   "outputs": [],
   "source": [
    "locations_op1 = os.listdir(r'C:\\Users\\GSE1\\Beca\\3813283 - PT Services and Infrastructure SSBC - Documents\\Technical - Working Files\\01 SSBC\\05 Shortlist\\Modelling specification\\model_update\\Sc1')\n",
    "locations_op2 = os.listdir(r'C:\\Users\\GSE1\\Beca\\3813283 - PT Services and Infrastructure SSBC - Documents\\Technical - Working Files\\01 SSBC\\05 Shortlist\\Modelling specification\\model_update\\Sc2')\n",
    "locations_op3 = os.listdir(r'C:\\Users\\GSE1\\Beca\\3813283 - PT Services and Infrastructure SSBC - Documents\\Technical - Working Files\\01 SSBC\\05 Shortlist\\Modelling specification\\model_update\\Sc3')"
   ]
  },
  {
   "cell_type": "code",
   "execution_count": 205,
   "id": "957c6ca1-ff63-4888-9867-f58c72a30ea3",
   "metadata": {},
   "outputs": [],
   "source": [
    "m = folium.Map(location=(-37.70663800746144, 176.15594519559102),\n",
    "              tiles=\"cartoDB positron\")\n",
    "for filename in locations_op1:\n",
    "    data = gpd.read_file(r\"C:/Users/GSE1/Beca/3813283 - PT Services and Infrastructure SSBC - Documents/Technical - Working Files/01 SSBC/05 Shortlist/Modelling specification/model_update/Sc1/\" + filename)\n",
    "    data_geom = data['geometry']\n",
    "    data_col = filename\n",
    "    if \"int_RoW\" in filename:\n",
    "        folium.GeoJson(data, name=\"Intersection - Right of Way\", tooltip=\"Right of Way\").add_to(m)\n",
    "    if \"int_TLR\" in filename:\n",
    "        folium.GeoJson(data, name=\"Intersection - Traffic Lane Re-allocation\", tooltip=\"Traffic Lane Re-allocation\").add_to(m)\n",
    "    if \"int_KLR\" in filename:\n",
    "        folium.GeoJson(data, name=\"Intersection - Kerbside Lane Re-allocation\", tooltip=\"Kerbside Lane Re-allocation\").add_to(m)\n",
    "    if \"links_RoW\" in filename:\n",
    "        folium.GeoJson(data, name=\"Links - Right of Way\", style_function=lambda feature: {\"color\": \"red\"}).add_to(m)\n",
    "    if \"links_TLR\" in filename:\n",
    "        folium.GeoJson(data, name=\"Links - Traffic Lane Re-allocation\", style_function=lambda feature: {\"color\": \"orange\"}).add_to(m)\n",
    "    if \"links_KLR\" in filename:\n",
    "        folium.GeoJson(data, name=\"Links - Kerbside Lane Re-allocation\", style_function=lambda feature: {\"color\": \"blue\"}).add_to(m)   \n",
    "        \n",
    "folium.LayerControl().add_to(m)\n",
    "m.save('option1.html')\n",
    "    \n",
    "           "
   ]
  },
  {
   "cell_type": "code",
   "execution_count": 208,
   "id": "794db461-48d3-4c68-93fe-d67277a7bd35",
   "metadata": {},
   "outputs": [],
   "source": [
    "m = folium.Map(location=(-37.70663800746144, 176.15594519559102),\n",
    "              tiles=\"cartoDB positron\")\n",
    "for filename in locations_op2:\n",
    "    data = gpd.read_file(r\"C:/Users/GSE1/Beca/3813283 - PT Services and Infrastructure SSBC - Documents/Technical - Working Files/01 SSBC/05 Shortlist/Modelling specification/model_update/Sc2/\" + filename)\n",
    "    if \"int_RoW\" in filename:\n",
    "        folium.GeoJson(data, name=\"Intersection - Right of Way\", tooltip=\"Right of Way\").add_to(m)\n",
    "    if \"int_TLR\" in filename:\n",
    "        folium.GeoJson(data, name=\"Intersection - Traffic Lane Re-allocation\", tooltip=\"Traffic Lane Re-allocation\").add_to(m)\n",
    "    if \"int_KLR\" in filename:\n",
    "        folium.GeoJson(data, name=\"Intersection - Kerbside Lane Re-allocation\", tooltip=\"Kerbside Lane Re-allocation\").add_to(m)\n",
    "    if \"links_RoW\" in filename:\n",
    "        folium.GeoJson(data, name=\"Links - Right of Way\", style_function=lambda feature: {\"color\": \"red\"}).add_to(m)\n",
    "    if \"links_TLR\" in filename:\n",
    "        folium.GeoJson(data, name=\"Links - Traffic Lane Re-allocation\", style_function=lambda feature: {\"color\": \"orange\"}).add_to(m)\n",
    "    if \"links_KLR\" in filename:\n",
    "        folium.GeoJson(data, name=\"Links - Kerbside Lane Re-allocation\", style_function=lambda feature: {\"color\": \"blue\"}).add_to(m)   \n",
    "        \n",
    "folium.LayerControl().add_to(m)\n",
    "m.save('option2.html')"
   ]
  },
  {
   "cell_type": "code",
   "execution_count": 213,
   "id": "e2c581e4-5080-4f57-bea4-f5dbf71e2005",
   "metadata": {},
   "outputs": [],
   "source": [
    "m = folium.Map(location=(-37.70663800746144, 176.15594519559102),\n",
    "              tiles=\"cartoDB positron\")\n",
    "for filename in locations_op3:\n",
    "    data = gpd.read_file(r\"C:/Users/GSE1/Beca/3813283 - PT Services and Infrastructure SSBC - Documents/Technical - Working Files/01 SSBC/05 Shortlist/Modelling specification/model_update/Sc3/\" + filename)\n",
    "    if \"int_RoW\" in filename:\n",
    "        folium.GeoJson(data, name=\"Intersection - Right of Way\", tooltip=\"Right of Way\").add_to(m)\n",
    "    if \"int_TLR\" in filename:\n",
    "        folium.GeoJson(data, name=\"Intersection - Traffic Lane Re-allocation\", tooltip=\"Traffic Lane Re-allocation\").add_to(m)\n",
    "    if \"int_KLR\" in filename:\n",
    "        folium.GeoJson(data, name=\"Intersection - Kerbside Lane Re-allocation\", tooltip=\"Kerbside Lane Re-allocation\").add_to(m)\n",
    "    if \"links_RoW\" in filename:\n",
    "        folium.GeoJson(data, name=\"Links - Right of Way\", style_function=lambda feature: {\"color\": \"red\"}).add_to(m)\n",
    "    if \"links_TLR\" in filename:\n",
    "        folium.GeoJson(data, name=\"Links - Traffic Lane Re-allocation\", style_function=lambda feature: {\"color\": \"orange\"}).add_to(m)\n",
    "    if \"links_KLR\" in filename:\n",
    "        folium.GeoJson(data, name=\"Links - Kerbside Lane Re-allocation\", style_function=lambda feature: {\"color\": \"blue\"}).add_to(m)   \n",
    "        \n",
    "folium.LayerControl().add_to(m)\n",
    "m.save('option3.html')"
   ]
  },
  {
   "cell_type": "code",
   "execution_count": null,
   "id": "409b4fd4-2abf-4f63-a3a8-5011f14306de",
   "metadata": {},
   "outputs": [],
   "source": []
  }
 ],
 "metadata": {
  "kernelspec": {
   "display_name": "Python 3 (ipykernel)",
   "language": "python",
   "name": "python3"
  },
  "language_info": {
   "codemirror_mode": {
    "name": "ipython",
    "version": 3
   },
   "file_extension": ".py",
   "mimetype": "text/x-python",
   "name": "python",
   "nbconvert_exporter": "python",
   "pygments_lexer": "ipython3",
   "version": "3.11.5"
  }
 },
 "nbformat": 4,
 "nbformat_minor": 5
}
